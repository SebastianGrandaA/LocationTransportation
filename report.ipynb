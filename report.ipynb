{
 "cells": [
  {
   "cell_type": "code",
   "execution_count": 1,
   "metadata": {},
   "outputs": [
    {
     "name": "stderr",
     "output_type": "stream",
     "text": [
      "\u001b[32m\u001b[1m  Activating\u001b[22m\u001b[39m project at `~/Documents/Tech/Academic/M2 ROAD/Courses/3. Optimisation dans l'incertain/Projet/LocationTransportation`\n"
     ]
    }
   ],
   "source": [
    "using Pkg\n",
    "Pkg.activate(@__DIR__)\n",
    "using LocationTransportation: execute"
   ]
  },
  {
   "cell_type": "code",
   "execution_count": 2,
   "metadata": {},
   "outputs": [
    {
     "name": "stderr",
     "output_type": "stream",
     "text": [
      "┌ Info: Solving instance with Base\n",
      "└ @ LocationTransportation /Users/sebastiangrandaaltamirano/Documents/Tech/Academic/M2 ROAD/Courses/3. Optimisation dans l'incertain/Projet/LocationTransportation/src/LocationTransportation.jl:30\n"
     ]
    },
    {
     "name": "stdout",
     "output_type": "stream",
     "text": [
      "Set parameter Username\n",
      "Academic license - for non-commercial use only - expires 2024-10-19\n",
      "Set parameter TimeLimit to value 3600\n"
     ]
    }
   ],
   "source": [
    "base_solution = execute(; model=:Base);"
   ]
  },
  {
   "cell_type": "code",
   "execution_count": 3,
   "metadata": {},
   "outputs": [],
   "source": [
    "@assert base_solution.metrics.objective_value == 30536.0"
   ]
  },
  {
   "cell_type": "code",
   "execution_count": 4,
   "metadata": {},
   "outputs": [
    {
     "name": "stderr",
     "output_type": "stream",
     "text": [
      "┌ Info: Solving instance with Robust\n",
      "└ @ LocationTransportation /Users/sebastiangrandaaltamirano/Documents/Tech/Academic/M2 ROAD/Courses/3. Optimisation dans l'incertain/Projet/LocationTransportation/src/LocationTransportation.jl:30\n",
      "┌ Info: Robust | Solution values\n",
      "│   value.(M) = 1-dimensional DenseAxisArray{Float64,1,...} with index sets:\n",
      "    Dimension 1, 1:3\n",
      "And data, a 3-element Vector{Float64}:\n",
      " 206.0\n",
      " 274.0\n",
      " 220.0\n",
      "│   value.(δ) = 1-dimensional DenseAxisArray{Float64,1,...} with index sets:\n",
      "    Dimension 1, 1:3\n",
      "And data, a 3-element Vector{Float64}:\n",
      " 0.0\n",
      " 0.0\n",
      " 0.0\n",
      "└ @ LocationTransportation /Users/sebastiangrandaaltamirano/Documents/Tech/Academic/M2 ROAD/Courses/3. Optimisation dans l'incertain/Projet/LocationTransportation/src/methods/Robust.jl:71\n"
     ]
    },
    {
     "name": "stdout",
     "output_type": "stream",
     "text": [
      "Set parameter Username\n",
      "Academic license - for non-commercial use only - expires 2024-10-19\n",
      "Set parameter TimeLimit to value 3600\n"
     ]
    }
   ],
   "source": [
    "robust_solution = execute(; model=:Robust, uncertain_demand=true);"
   ]
  },
  {
   "cell_type": "code",
   "execution_count": 5,
   "metadata": {},
   "outputs": [
    {
     "data": {
      "text/plain": [
       "30536.0"
      ]
     },
     "metadata": {},
     "output_type": "display_data"
    }
   ],
   "source": [
    "robust_solution.metrics.objective_value"
   ]
  },
  {
   "cell_type": "markdown",
   "metadata": {},
   "source": [
    "Given the uncertainty set `D`:\n",
    "D = {\n",
    "    d : \n",
    "        d_{j} = \\bar{d}_{j} + \\hat{d}_{j} \\delta_{j} ,\n",
    "        0 \\leq \\delta_{j} \\leq 1,\n",
    "        \\sum_{j} \\delta_{j} \\leq \\Gamma_{1}\n",
    "        \\delta_{1} + \\delta_{2} \\leq \\Gamma_{2}\n",
    "}\n",
    "\n",
    "To formulate the robust counterpart, we first replace the `demand_satisfaction` constraint with the following constraint:\n",
    "\\sum_{i} x_{ij} \\geq max_{\\delta \\in D}{ \\bar{d}_{j} + \\hat{d}_{j} \\delta_{j} } , \\forall j \\in J\n",
    "\n",
    "Then we linearize the constraint by introducing an auxiliary variable `M_{j}` that represents the maximum demand for customer `j`:\n",
    "    M_{j} \\geq \\bar{d}_{j} + \\hat{d}_{j} \\delta_{j} , \\forall j \\in J, \\forall \\delta \\in D\n",
    "    \\sum_{i} x_{ij} \\geq M_{j} , \\forall j \\in J\n",
    "\n",
    "Finally, we add the uncertainty set constraints:\n",
    "    \\sum_{j} \\delta_{j} \\leq \\Gamma_{1}\n",
    "    \\delta_{1} + \\delta_{2} \\leq \\Gamma_{2}\n",
    "    \\delta_{j} \\in [0, 1] , \\forall j \\in J"
   ]
  },
  {
   "cell_type": "markdown",
   "metadata": {},
   "source": [
    "$$d_{j} = \\bar{d}_{j} + \\hat{d}_{j} \\delta_{j}$$\n",
    "\n",
    "$$0 \\leq \\delta_{j} \\leq 1$$\n",
    "\n",
    "$$\\sum_{j} \\delta_{j} \\leq \\Gamma_{1}$$\n",
    "\n",
    "$$\\delta_{1} + \\delta_{2} \\leq \\Gamma_{2}$$"
   ]
  },
  {
   "cell_type": "markdown",
   "metadata": {},
   "source": []
  }
 ],
 "metadata": {
  "kernelspec": {
   "display_name": "Julia 1.9.3",
   "language": "julia",
   "name": "julia-1.9"
  },
  "language_info": {
   "file_extension": ".jl",
   "mimetype": "application/julia",
   "name": "julia",
   "version": "1.9.3"
  }
 },
 "nbformat": 4,
 "nbformat_minor": 2
}
