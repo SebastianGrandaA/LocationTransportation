{
 "cells": [
  {
   "cell_type": "markdown",
   "metadata": {},
   "source": [
    "# Robust location-transportation problem\n",
    "\n",
    "**Author**: Sebastian Granda\n",
    "\n",
    "**Course**: Stochastic Optimization\n",
    "\n",
    "**Reference**: Zeng, B., & Zhao, L. (2013). Solving two-stage robust optimization problems using a column-and-constraint generation method. Operations Research Letters, 41(5), 457-461."
   ]
  },
  {
   "cell_type": "markdown",
   "metadata": {},
   "source": [
    "## Implementation notes\n",
    "\n",
    "This project has been implemented as a Julia package called `LocationTransportation`. The entry-point is the `execute` function, which creates an `Input` instance, solves the problem, and returns the solution as a `Solution` object. \n",
    "\n",
    "To use the package, it is required to have `Gurobi.jl` installed with a valid license, otherwise replace `Gurobi` and `Gurobi.Optimizer` from `src/LocationTransportation.jl` for an open source alternative, such as `GLPK.jl` :\n",
    "\n",
    "```julia\n",
    "using GLPK\n",
    "solver = optimizer_with_attributes(GPLK.Optimizer)\n",
    "```\n",
    "\n",
    "All the necessary dependencies will be managed by running the following cell:"
   ]
  },
  {
   "cell_type": "code",
   "execution_count": 1,
   "metadata": {},
   "outputs": [
    {
     "name": "stderr",
     "output_type": "stream",
     "text": [
      "\u001b[32m\u001b[1m  Activating\u001b[22m\u001b[39m project at `~/Documents/Tech/Academic/M2 ROAD/Courses/3. Optimisation dans l'incertain/Projet/LocationTransportation`\n"
     ]
    }
   ],
   "source": [
    "using Pkg\n",
    "Pkg.activate(@__DIR__)\n",
    "using LocationTransportation\n",
    "using DataFrames"
   ]
  },
  {
   "cell_type": "markdown",
   "metadata": {},
   "source": [
    "## Question 1: Deterministic model\n",
    "\n",
    "Let the set of locations be denoted by L and the set of customers by J. The fixed cost of opening a warehouse at location $i \\in I$ is denoted by $f_i$ and the cost per unit of capacity is denoted by $a_{i}$, which is limited by a maximum capacity $C_{i}$. The quantity of product demanded by customer j is denoted by $d_j$, and the cost of transporting one unit of product from location i to customer j is denoted by $c_{ij}$. It is assumed that the total available capacity is sufficient to satisfy the total demand to ensure feasibility:\n",
    "\n",
    "$$\\sum_{i \\in I} C_{i} \\geq \\sum_{j \\in J} d_{j}$$\n",
    "\n",
    "We seek to minimize the total cost while satisfying the demand of each customer. To achieve so, define the location decision variable $y_{i} \\in \\{0,1\\}$, which is equal to 1 if a warehouse is opened at location $i \\in I$, and 0 otherwise. The capacity decision variable $z_{i} \\geq 0$ denotes the warehouse capacity installed at location $i \\in I$. The transportation decision variable $x_{ij} \\geq 0$ denotes the quantity of product transported from location $i \\in I$ to customer $j \\in J$. The warehouse location-transportation problem with single product can be formulated in the deterministic form as follows:\n",
    "\n",
    "$$\\min \\sum_{i \\in I} f_{i} y_{i} + \\sum_{i \\in I} a_{i} z_{i} + \\sum_{i \\in I} \\sum_{j \\in J} c_{ij} x_{ij}$$\n",
    "\n",
    "$$\\text{s.t.} \\quad z_{i} \\leq C_{i} y_{i}, \\quad \\forall i \\in I \\quad \\text{(capacity limit)}$$\n",
    "$$\\sum_{j \\in J} x_{ij} \\leq z_{i}, \\quad \\forall i \\in I \\quad \\text{(transportation limit)}$$\n",
    "$$\\sum_{i \\in I} x_{ij} \\geq d_{j}, \\quad \\forall j \\in J \\quad \\text{(demand satisfaction)}$$\n",
    "$$y_{i} \\in \\{0,1\\}, \\quad \\forall i \\in I$$\n",
    "$$z_{i} \\geq 0, \\quad \\forall i \\in I$$\n",
    "$$x_{ij} \\geq 0, \\quad \\forall i \\in I, \\forall j \\in J$$\n",
    "\n",
    "In this model, the objective function minimizes the total cost, which is the sum of the fixed, capacity, and transportation costs. The capacity limit constraint ensures that the capacity installed does not exceed the maximum capacity if a warehouse is opened at location $i \\in I$. The transportation limit constraint guarantees that the quantity of product transported from location $i \\in I$ does not exceed the installed capacity. The demand satisfaction constraint provides a lower bound on the quantity of product transported from location $i \\in I$ to customer $j \\in J$. Finally, the location decision variable $y_{i}$ is set as binary, and the capacity and transportation decision variables $z_{i}$ and $x_{ij}$ are non-negative.\n",
    "\n",
    "The implementation of this model is located at `src/methods/Base.jl`. In the `solve` function, the `is_opened` variable represent the location decision $y_{i}$; `installed_capacity`, the capacity decision $z_{i}$; and `distribution_amount`, the transportation $x_{ij}$ variable. To solve the problem using the sample instance, call the `execute` function with the desired method:"
   ]
  },
  {
   "cell_type": "code",
   "execution_count": 2,
   "metadata": {},
   "outputs": [
    {
     "name": "stderr",
     "output_type": "stream",
     "text": [
      "┌ Info: Solving instance with Base\n",
      "└ @ LocationTransportation /Users/sebastiangrandaaltamirano/Documents/Tech/Academic/M2 ROAD/Courses/3. Optimisation dans l'incertain/Projet/LocationTransportation/src/LocationTransportation.jl:44\n"
     ]
    },
    {
     "name": "stdout",
     "output_type": "stream",
     "text": [
      "Set parameter Username\n",
      "Academic license - for non-commercial use only - expires 2024-10-19\n",
      "Set parameter TimeLimit to value 3600\n"
     ]
    }
   ],
   "source": [
    "base_solution = execute(; model=:Base);"
   ]
  },
  {
   "cell_type": "markdown",
   "metadata": {},
   "source": [
    "The optimal solution reports an objective value of `30536` units of cost:"
   ]
  },
  {
   "cell_type": "code",
   "execution_count": 3,
   "metadata": {},
   "outputs": [
    {
     "data": {
      "text/html": [
       "<div><div style = \"float: left;\"><span>1×2 DataFrame</span></div><div style = \"clear: both;\"></div></div><div class = \"data-frame\" style = \"overflow-x: scroll;\"><table class = \"data-frame\" style = \"margin-bottom: 6px;\"><thead><tr class = \"header\"><th class = \"rowNumber\" style = \"font-weight: bold; text-align: right;\">Row</th><th style = \"text-align: left;\">objective_value</th><th style = \"text-align: left;\">execution_time</th></tr><tr class = \"subheader headerLastRow\"><th class = \"rowNumber\" style = \"font-weight: bold; text-align: right;\"></th><th title = \"Float64\" style = \"text-align: left;\">Float64</th><th title = \"Float64\" style = \"text-align: left;\">Float64</th></tr></thead><tbody><tr><td class = \"rowNumber\" style = \"font-weight: bold; text-align: right;\">1</td><td style = \"text-align: right;\">30536.0</td><td style = \"text-align: right;\">1.70262</td></tr></tbody></table></div>"
      ],
      "text/latex": [
       "\\begin{tabular}{r|cc}\n",
       "\t& objective\\_value & execution\\_time\\\\\n",
       "\t\\hline\n",
       "\t& Float64 & Float64\\\\\n",
       "\t\\hline\n",
       "\t1 & 30536.0 & 1.70262 \\\\\n",
       "\\end{tabular}\n"
      ],
      "text/plain": [
       "\u001b[1m1×2 DataFrame\u001b[0m\n",
       "\u001b[1m Row \u001b[0m│\u001b[1m objective_value \u001b[0m\u001b[1m execution_time \u001b[0m\n",
       "     │\u001b[90m Float64         \u001b[0m\u001b[90m Float64        \u001b[0m\n",
       "─────┼─────────────────────────────────\n",
       "   1 │         30536.0         1.70262"
      ]
     },
     "metadata": {},
     "output_type": "display_data"
    }
   ],
   "source": [
    "base_summary = LocationTransportation.summary(base_solution)\n",
    "@assert base_solution.metrics.objective_value == 30536.0\n",
    "select(base_summary[3], :objective_value, :execution_time)"
   ]
  },
  {
   "cell_type": "markdown",
   "metadata": {},
   "source": [
    "This solution shows that the locations `1` and `3` have been opened, with a capacity of `426.0` and `274`, respectively:"
   ]
  },
  {
   "cell_type": "code",
   "execution_count": 4,
   "metadata": {},
   "outputs": [
    {
     "data": {
      "text/html": [
       "<div><div style = \"float: left;\"><span>2×2 DataFrame</span></div><div style = \"clear: both;\"></div></div><div class = \"data-frame\" style = \"overflow-x: scroll;\"><table class = \"data-frame\" style = \"margin-bottom: 6px;\"><thead><tr class = \"header\"><th class = \"rowNumber\" style = \"font-weight: bold; text-align: right;\">Row</th><th style = \"text-align: left;\">location_id</th><th style = \"text-align: left;\">installed_capacity</th></tr><tr class = \"subheader headerLastRow\"><th class = \"rowNumber\" style = \"font-weight: bold; text-align: right;\"></th><th title = \"String\" style = \"text-align: left;\">String</th><th title = \"Float64\" style = \"text-align: left;\">Float64</th></tr></thead><tbody><tr><td class = \"rowNumber\" style = \"font-weight: bold; text-align: right;\">1</td><td style = \"text-align: left;\">L-1</td><td style = \"text-align: right;\">426.0</td></tr><tr><td class = \"rowNumber\" style = \"font-weight: bold; text-align: right;\">2</td><td style = \"text-align: left;\">L-3</td><td style = \"text-align: right;\">274.0</td></tr></tbody></table></div>"
      ],
      "text/latex": [
       "\\begin{tabular}{r|cc}\n",
       "\t& location\\_id & installed\\_capacity\\\\\n",
       "\t\\hline\n",
       "\t& String & Float64\\\\\n",
       "\t\\hline\n",
       "\t1 & L-1 & 426.0 \\\\\n",
       "\t2 & L-3 & 274.0 \\\\\n",
       "\\end{tabular}\n"
      ],
      "text/plain": [
       "\u001b[1m2×2 DataFrame\u001b[0m\n",
       "\u001b[1m Row \u001b[0m│\u001b[1m location_id \u001b[0m\u001b[1m installed_capacity \u001b[0m\n",
       "     │\u001b[90m String      \u001b[0m\u001b[90m Float64            \u001b[0m\n",
       "─────┼─────────────────────────────────\n",
       "   1 │ L-1                       426.0\n",
       "   2 │ L-3                       274.0"
      ]
     },
     "metadata": {},
     "output_type": "display_data"
    }
   ],
   "source": [
    "base_summary[1]"
   ]
  },
  {
   "cell_type": "markdown",
   "metadata": {},
   "source": [
    "We can also verify the customer-to-warehouse assignments and the transportation quantity. For this instance, the warehouse `1` delivers `206` and `220` units to customers `1` and `3`, respectively; while warehouse `3` delivers `274` units to customer `2`:"
   ]
  },
  {
   "cell_type": "code",
   "execution_count": 5,
   "metadata": {},
   "outputs": [
    {
     "data": {
      "text/html": [
       "<div><div style = \"float: left;\"><span>3×3 DataFrame</span></div><div style = \"clear: both;\"></div></div><div class = \"data-frame\" style = \"overflow-x: scroll;\"><table class = \"data-frame\" style = \"margin-bottom: 6px;\"><thead><tr class = \"header\"><th class = \"rowNumber\" style = \"font-weight: bold; text-align: right;\">Row</th><th style = \"text-align: left;\">warehouse_id</th><th style = \"text-align: left;\">customer_id</th><th style = \"text-align: left;\">distribution_amount</th></tr><tr class = \"subheader headerLastRow\"><th class = \"rowNumber\" style = \"font-weight: bold; text-align: right;\"></th><th title = \"String\" style = \"text-align: left;\">String</th><th title = \"String\" style = \"text-align: left;\">String</th><th title = \"Float64\" style = \"text-align: left;\">Float64</th></tr></thead><tbody><tr><td class = \"rowNumber\" style = \"font-weight: bold; text-align: right;\">1</td><td style = \"text-align: left;\">L-1</td><td style = \"text-align: left;\">C-1</td><td style = \"text-align: right;\">206.0</td></tr><tr><td class = \"rowNumber\" style = \"font-weight: bold; text-align: right;\">2</td><td style = \"text-align: left;\">L-1</td><td style = \"text-align: left;\">C-3</td><td style = \"text-align: right;\">220.0</td></tr><tr><td class = \"rowNumber\" style = \"font-weight: bold; text-align: right;\">3</td><td style = \"text-align: left;\">L-3</td><td style = \"text-align: left;\">C-2</td><td style = \"text-align: right;\">274.0</td></tr></tbody></table></div>"
      ],
      "text/latex": [
       "\\begin{tabular}{r|ccc}\n",
       "\t& warehouse\\_id & customer\\_id & distribution\\_amount\\\\\n",
       "\t\\hline\n",
       "\t& String & String & Float64\\\\\n",
       "\t\\hline\n",
       "\t1 & L-1 & C-1 & 206.0 \\\\\n",
       "\t2 & L-1 & C-3 & 220.0 \\\\\n",
       "\t3 & L-3 & C-2 & 274.0 \\\\\n",
       "\\end{tabular}\n"
      ],
      "text/plain": [
       "\u001b[1m3×3 DataFrame\u001b[0m\n",
       "\u001b[1m Row \u001b[0m│\u001b[1m warehouse_id \u001b[0m\u001b[1m customer_id \u001b[0m\u001b[1m distribution_amount \u001b[0m\n",
       "     │\u001b[90m String       \u001b[0m\u001b[90m String      \u001b[0m\u001b[90m Float64             \u001b[0m\n",
       "─────┼────────────────────────────────────────────────\n",
       "   1 │ L-1           C-1                        206.0\n",
       "   2 │ L-1           C-3                        220.0\n",
       "   3 │ L-3           C-2                        274.0"
      ]
     },
     "metadata": {},
     "output_type": "display_data"
    }
   ],
   "source": [
    "base_summary[2]"
   ]
  },
  {
   "cell_type": "markdown",
   "metadata": {},
   "source": [
    "We can verify that this solution satisfies all the demand and it is consistent with the transportation quantities:"
   ]
  },
  {
   "cell_type": "code",
   "execution_count": 6,
   "metadata": {},
   "outputs": [],
   "source": [
    "@assert sum(base_summary[1][!, :installed_capacity]) == sum(base_summary[2][!, :distribution_amount]) == sum([206, 274, 220])"
   ]
  },
  {
   "cell_type": "markdown",
   "metadata": {},
   "source": [
    "## Question 2: Robust counterpart\n",
    "\n",
    "Considering the uncertainty set $D$, in which $\\bar{d}_{j}$ is the nominal value of the demand quantity for customer $j \\in J$, and $\\hat{d}_{j}$ is the maximum deviation from the nominal value, define the decision variables $r_{j}$ as the robust demand quantity for customer $j \\in J$ and $\\delta_{j}$ as the deviation proportion.\n",
    "Then, the mathematical formulation to obtain the worst-case demand for each customer is as follows:\n",
    "\n",
    "$$\\max \\sum_{j} r_{j}$$\n",
    "\n",
    "$$r_{j} = \\bar{d}_{j} + \\hat{d}_{j} \\delta_{j}, \\quad \\forall j \\in J$$\n",
    "\n",
    "$$0 \\leq \\delta_{j} \\leq 1, \\quad \\forall j \\in J$$\n",
    "    \n",
    "$$\\sum_{j} \\delta_{j} \\leq \\Gamma_{1}$$\n",
    "\n",
    "$$\\delta_{1} + \\delta_{2} \\leq \\Gamma_{2}$$\n",
    "\n",
    "To introduce this uncertainty set in the model, replace the demand parameter $d_{j}$ with the dual of the demand satisfaction constraint $\\lambda_{j}$ multiplied by the robust demand quantity $r_{j}$ :\n",
    "$$d_{j} = \\lambda_{j} r_{j}, \\quad \\forall j \\in J$$\n",
    "\n",
    "The robust demand quantity $r_{j}$ is obtained by solving the above model.\n",
    "\n",
    "The implementation for the robust model and for the uncertainty set are located at `src/methods/Robust.jl` and `src/methods/UncertaintySet.jl`, respectively."
   ]
  },
  {
   "cell_type": "code",
   "execution_count": 7,
   "metadata": {},
   "outputs": [
    {
     "name": "stderr",
     "output_type": "stream",
     "text": [
      "┌ Info: Solving instance with Robust\n",
      "└ @ LocationTransportation /Users/sebastiangrandaaltamirano/Documents/Tech/Academic/M2 ROAD/Courses/3. Optimisation dans l'incertain/Projet/LocationTransportation/src/LocationTransportation.jl:44\n"
     ]
    },
    {
     "name": "stdout",
     "output_type": "stream",
     "text": [
      "Set parameter Username\n",
      "Academic license - for non-commercial use only - expires 2024-10-19\n",
      "Set parameter Username\n",
      "Academic license - for non-commercial use only - expires 2024-10-19\n",
      "Set parameter TimeLimit to value 3600\n",
      "Set parameter TimeLimit to value 3600\n"
     ]
    }
   ],
   "source": [
    "robust_solution = execute(; model=:Robust, uncertain_demand=true);"
   ]
  },
  {
   "cell_type": "markdown",
   "metadata": {},
   "source": [
    "The optimal solution reports an objective value of `33496` units of cost:"
   ]
  },
  {
   "cell_type": "code",
   "execution_count": 8,
   "metadata": {},
   "outputs": [
    {
     "data": {
      "text/html": [
       "<div><div style = \"float: left;\"><span>1×2 DataFrame</span></div><div style = \"clear: both;\"></div></div><div class = \"data-frame\" style = \"overflow-x: scroll;\"><table class = \"data-frame\" style = \"margin-bottom: 6px;\"><thead><tr class = \"header\"><th class = \"rowNumber\" style = \"font-weight: bold; text-align: right;\">Row</th><th style = \"text-align: left;\">objective_value</th><th style = \"text-align: left;\">execution_time</th></tr><tr class = \"subheader headerLastRow\"><th class = \"rowNumber\" style = \"font-weight: bold; text-align: right;\"></th><th title = \"Float64\" style = \"text-align: left;\">Float64</th><th title = \"Float64\" style = \"text-align: left;\">Float64</th></tr></thead><tbody><tr><td class = \"rowNumber\" style = \"font-weight: bold; text-align: right;\">1</td><td style = \"text-align: right;\">33496.0</td><td style = \"text-align: right;\">0.00181676</td></tr></tbody></table></div>"
      ],
      "text/latex": [
       "\\begin{tabular}{r|cc}\n",
       "\t& objective\\_value & execution\\_time\\\\\n",
       "\t\\hline\n",
       "\t& Float64 & Float64\\\\\n",
       "\t\\hline\n",
       "\t1 & 33496.0 & 0.00181676 \\\\\n",
       "\\end{tabular}\n"
      ],
      "text/plain": [
       "\u001b[1m1×2 DataFrame\u001b[0m\n",
       "\u001b[1m Row \u001b[0m│\u001b[1m objective_value \u001b[0m\u001b[1m execution_time \u001b[0m\n",
       "     │\u001b[90m Float64         \u001b[0m\u001b[90m Float64        \u001b[0m\n",
       "─────┼─────────────────────────────────\n",
       "   1 │         33496.0      0.00181676"
      ]
     },
     "metadata": {},
     "output_type": "display_data"
    }
   ],
   "source": [
    "robust_summary = LocationTransportation.summary(robust_solution)\n",
    "@assert robust_solution.metrics.objective_value == 33496.0\n",
    "select(robust_summary[3], :objective_value, :execution_time)"
   ]
  },
  {
   "cell_type": "markdown",
   "metadata": {},
   "source": [
    "As before, the robust solution shows that the locations `1` and `3` have been opened. However, in this solution the location `1` has `498` units of capacity (additional `72` units) and the location `3` remains with the same capacity of `274` :"
   ]
  },
  {
   "cell_type": "code",
   "execution_count": 9,
   "metadata": {},
   "outputs": [
    {
     "data": {
      "text/html": [
       "<div><div style = \"float: left;\"><span>2×2 DataFrame</span></div><div style = \"clear: both;\"></div></div><div class = \"data-frame\" style = \"overflow-x: scroll;\"><table class = \"data-frame\" style = \"margin-bottom: 6px;\"><thead><tr class = \"header\"><th class = \"rowNumber\" style = \"font-weight: bold; text-align: right;\">Row</th><th style = \"text-align: left;\">location_id</th><th style = \"text-align: left;\">installed_capacity</th></tr><tr class = \"subheader headerLastRow\"><th class = \"rowNumber\" style = \"font-weight: bold; text-align: right;\"></th><th title = \"String\" style = \"text-align: left;\">String</th><th title = \"Float64\" style = \"text-align: left;\">Float64</th></tr></thead><tbody><tr><td class = \"rowNumber\" style = \"font-weight: bold; text-align: right;\">1</td><td style = \"text-align: left;\">L-1</td><td style = \"text-align: right;\">498.0</td></tr><tr><td class = \"rowNumber\" style = \"font-weight: bold; text-align: right;\">2</td><td style = \"text-align: left;\">L-3</td><td style = \"text-align: right;\">274.0</td></tr></tbody></table></div>"
      ],
      "text/latex": [
       "\\begin{tabular}{r|cc}\n",
       "\t& location\\_id & installed\\_capacity\\\\\n",
       "\t\\hline\n",
       "\t& String & Float64\\\\\n",
       "\t\\hline\n",
       "\t1 & L-1 & 498.0 \\\\\n",
       "\t2 & L-3 & 274.0 \\\\\n",
       "\\end{tabular}\n"
      ],
      "text/plain": [
       "\u001b[1m2×2 DataFrame\u001b[0m\n",
       "\u001b[1m Row \u001b[0m│\u001b[1m location_id \u001b[0m\u001b[1m installed_capacity \u001b[0m\n",
       "     │\u001b[90m String      \u001b[0m\u001b[90m Float64            \u001b[0m\n",
       "─────┼─────────────────────────────────\n",
       "   1 │ L-1                       498.0\n",
       "   2 │ L-3                       274.0"
      ]
     },
     "metadata": {},
     "output_type": "display_data"
    }
   ],
   "source": [
    "robust_summary[1]"
   ]
  },
  {
   "cell_type": "markdown",
   "metadata": {},
   "source": [
    "For this solution, the warehouse `1` delivers additional `32` units to customer `1` (`238` vs `206`), an additional of `40` units for customer `3` (`260` vs `220`). The warehouse `3` delivers the same amount to customer `2`."
   ]
  },
  {
   "cell_type": "code",
   "execution_count": 10,
   "metadata": {},
   "outputs": [
    {
     "data": {
      "text/html": [
       "<div><div style = \"float: left;\"><span>3×3 DataFrame</span></div><div style = \"clear: both;\"></div></div><div class = \"data-frame\" style = \"overflow-x: scroll;\"><table class = \"data-frame\" style = \"margin-bottom: 6px;\"><thead><tr class = \"header\"><th class = \"rowNumber\" style = \"font-weight: bold; text-align: right;\">Row</th><th style = \"text-align: left;\">warehouse_id</th><th style = \"text-align: left;\">customer_id</th><th style = \"text-align: left;\">distribution_amount</th></tr><tr class = \"subheader headerLastRow\"><th class = \"rowNumber\" style = \"font-weight: bold; text-align: right;\"></th><th title = \"String\" style = \"text-align: left;\">String</th><th title = \"String\" style = \"text-align: left;\">String</th><th title = \"Float64\" style = \"text-align: left;\">Float64</th></tr></thead><tbody><tr><td class = \"rowNumber\" style = \"font-weight: bold; text-align: right;\">1</td><td style = \"text-align: left;\">L-1</td><td style = \"text-align: left;\">C-1</td><td style = \"text-align: right;\">238.0</td></tr><tr><td class = \"rowNumber\" style = \"font-weight: bold; text-align: right;\">2</td><td style = \"text-align: left;\">L-1</td><td style = \"text-align: left;\">C-3</td><td style = \"text-align: right;\">260.0</td></tr><tr><td class = \"rowNumber\" style = \"font-weight: bold; text-align: right;\">3</td><td style = \"text-align: left;\">L-3</td><td style = \"text-align: left;\">C-2</td><td style = \"text-align: right;\">274.0</td></tr></tbody></table></div>"
      ],
      "text/latex": [
       "\\begin{tabular}{r|ccc}\n",
       "\t& warehouse\\_id & customer\\_id & distribution\\_amount\\\\\n",
       "\t\\hline\n",
       "\t& String & String & Float64\\\\\n",
       "\t\\hline\n",
       "\t1 & L-1 & C-1 & 238.0 \\\\\n",
       "\t2 & L-1 & C-3 & 260.0 \\\\\n",
       "\t3 & L-3 & C-2 & 274.0 \\\\\n",
       "\\end{tabular}\n"
      ],
      "text/plain": [
       "\u001b[1m3×3 DataFrame\u001b[0m\n",
       "\u001b[1m Row \u001b[0m│\u001b[1m warehouse_id \u001b[0m\u001b[1m customer_id \u001b[0m\u001b[1m distribution_amount \u001b[0m\n",
       "     │\u001b[90m String       \u001b[0m\u001b[90m String      \u001b[0m\u001b[90m Float64             \u001b[0m\n",
       "─────┼────────────────────────────────────────────────\n",
       "   1 │ L-1           C-1                        238.0\n",
       "   2 │ L-1           C-3                        260.0\n",
       "   3 │ L-3           C-2                        274.0"
      ]
     },
     "metadata": {},
     "output_type": "display_data"
    }
   ],
   "source": [
    "robust_summary[2]"
   ]
  },
  {
   "cell_type": "markdown",
   "metadata": {},
   "source": [
    "To verify that the robust solution is more expensive than the base solution because of the robustness constraint, we can check that the robust solution is at most twice as expensive as the base solution:"
   ]
  },
  {
   "cell_type": "code",
   "execution_count": 11,
   "metadata": {},
   "outputs": [],
   "source": [
    "@assert base_solution.metrics.objective_value <= robust_solution.metrics.objective_value <= 2 * base_solution.metrics.objective_value"
   ]
  },
  {
   "cell_type": "markdown",
   "metadata": {},
   "source": [
    "## Question 3: Dynamic constraint generation\n",
    "\n",
    "Using the same principle as the Benders decomposition method, we obtain the master problem (MP) by determing the location and the capacity of the warehouses. Once this first-stage decisions are made, we solve the subproblem (SP) **for each customer** to determine the transportation quantities from the warehouses to the customers.\n",
    "\n",
    "In the implementation, the master problem provides candidate solutions and the subproblem either improves the lower bound (optimality cuts) or makes the problem feasible (feasibility cuts). These cuts are added to the master problem using the dual solutions of each subproblem. Let the fixed location and capacity obtained from the master problem be $\\bar{y}_{i}$ and $\\bar{z}_{i}$, respectively, and considering $r_{j}$ as the robust demand for customer $j$, the subproblem is formulated as follows:\n",
    "\n",
    "For the **optimality cuts**, we formulate the subproblem as follows:\n",
    "\n",
    "$$\\text{SP-opt}^{j} = \\min \\sum_{i \\in I} c_{ij} x_{ij}$$\n",
    "\n",
    "$$\\text{s.t.} x_{ij} \\leq \\bar{z}_{i} \\quad \\forall i \\in I \\quad \\text{(transportation limit)}$$\n",
    "$$\\sum_{i \\in I} x_{ij} \\geq r_{j} \\quad \\text{(demand satisfaction)}$$\n",
    "$$x_{ij} \\geq 0 \\quad \\forall i \\in I$$\n",
    "\n",
    "Given that $\\alpha_{i}$ is the dual variable associated with the transportation limit constraint, and $v(\\alpha)$ is the optimal objective value of the subproblem, the optimality cut for customer $j$ is formulated as follows (multi-cut approach):\n",
    "\n",
    "$$v(\\alpha) + \\sum_{i \\in I} \\alpha_{i} * z_{i} \\leq \\theta_{j}$$\n",
    "\n",
    "On the other side, for the **feasibility cuts** we formulate the auxiliary problem to determine the capacity deficit and surplus of each warehouse. Let $z^{+}_{i}$ and $z^{-}_{i}$ be the artificial variables that represent the capacity surplus and deficit of warehouse $i$, respectively, the auxiliary problem is formulated as:\n",
    "\n",
    "$$\\text{SP-feas}^{j} = \\min \\sum_{i \\in I} z^{+}_{i} + z^{-}_{i}$$\n",
    "\n",
    "$$\\text{s.t.} x_{ij} + z^{-}_{i} - z^{+}_{i} \\leq \\bar{z}_{i} \\quad \\forall i \\in I \\quad \\text{(transportation limit)}$$\n",
    "\n",
    "$$\\sum_{i \\in I} x_{ij} \\geq r_{j} \\quad \\text{(demand satisfaction)}$$\n",
    "\n",
    "$$x_{ij} \\geq 0 \\quad \\forall i \\in I$$\n",
    "\n",
    "Given that $\\beta_{i}$ is the dual variable associated with the transportation limit constraint, and $v(\\beta)$ is the optimal objective value of the subproblem, the feasibility cut is formulated as follows:\n",
    "\n",
    "$$v(\\beta) + \\sum_{i \\in I} \\beta_{i} * z_{i} \\leq 0$$\n",
    "\n",
    "The master problem approximates the subproblem solutions by introducing an additional variable $\\theta_{i} \\forall i \\in I$ that represents the second-stage cost. The master problem is formulated as follows:\n",
    "\n",
    "$$\\min \\sum_{i \\in I} f_{i} y_{i} + \\sum_{i \\in I} a_{i} z_{i} + \\sum_{i \\in I} \\theta_{i}$$\n",
    "\n",
    "$$\\text{s.t.} \\quad z_{i} \\leq C_{i} y_{i}, \\quad \\forall i \\in I \\quad \\text{(capacity limit)}$$\n",
    "$$\\text{feasibility cuts}$$\n",
    "$$\\text{optimality cuts}$$\n",
    "$$y_{i} \\in \\{0, 1\\} \\quad \\forall i \\in I$$\n",
    "$$z_{i} \\geq 0 \\quad \\forall i \\in I$$\n",
    "$$\\theta_{i} \\geq 0 \\quad \\forall i \\in I$$\n",
    "\n",
    "For illustrative purposes, the constraint generation method is implemented using an iterative multi-cut approach. The `src/methods/Benders/MasterProblem.jl` file contains the logic related to the master problem formulation and cut generation.\n",
    "Similarly, the `src/methods/Benders/SubProblem.jl` file contains the logic related to the optimality and feasibility subproblem formulations. The logic is orchestrated in the `src/methods/Benders/ConstraintGeneration.jl` file.\n",
    "\n",
    "Each sub-problem is solved in parallel to find new cuts for each customer.\n",
    "For simplicity, the stop criteria of the dynamic constraint generation algorithm is only based on the number of iterations."
   ]
  },
  {
   "cell_type": "code",
   "execution_count": 12,
   "metadata": {},
   "outputs": [
    {
     "name": "stderr",
     "output_type": "stream",
     "text": [
      "┌ Info: Solving instance with ConstraintGeneration\n",
      "└ @ LocationTransportation /Users/sebastiangrandaaltamirano/Documents/Tech/Academic/M2 ROAD/Courses/3. Optimisation dans l'incertain/Projet/LocationTransportation/src/LocationTransportation.jl:44\n",
      "┌ Info: ConstraintGeneration | Iteration 1\n",
      "└ @ LocationTransportation /Users/sebastiangrandaaltamirano/Documents/Tech/Academic/M2 ROAD/Courses/3. Optimisation dans l'incertain/Projet/LocationTransportation/src/methods/Benders/ConstraintGeneration.jl:17\n"
     ]
    },
    {
     "name": "stdout",
     "output_type": "stream",
     "text": [
      "Set parameter Username\n",
      "Academic license - for non-commercial use only - expires 2024-10-19\n",
      "Set parameter Username\n",
      "Academic license - for non-commercial use only - expires 2024-10-19\n",
      "Set parameter TimeLimit to value 3600\n",
      "Set parameter TimeLimit to value 3600\n"
     ]
    },
    {
     "name": "stderr",
     "output_type": "stream",
     "text": [
      "┌ Info: MasterProblem solved and updated | Metrics objective_value: 0.0, execution_time: 0.000299679, expected_recourse: 0\n",
      "└ @ LocationTransportation /Users/sebastiangrandaaltamirano/Documents/Tech/Academic/M2 ROAD/Courses/3. Optimisation dans l'incertain/Projet/LocationTransportation/src/methods/Benders/MasterProblem.jl:72\n"
     ]
    },
    {
     "name": "stdout",
     "output_type": "stream",
     "text": [
      "Set parameter Username\n",
      "Academic license - for non-commercial use only - expires 2024-10-19\n",
      "Set parameter TimeLimit to value 3600\n",
      "Set parameter Username\n",
      "Academic license - for non-commercial use only - expires 2024-10-19\n",
      "Set parameter TimeLimit to value 3600\n",
      "Set parameter Username\n",
      "Academic license - for non-commercial use only - expires 2024-10-19\n",
      "Set parameter TimeLimit to value 3600\n",
      "Set parameter Username\n",
      "Academic license - for non-commercial use only - expires 2024-10-19\n",
      "Set parameter TimeLimit to value 3600\n",
      "Set parameter Username\n",
      "Academic license - for non-commercial use only - expires 2024-10-19\n",
      "Set parameter TimeLimit to value 3600\n",
      "Set parameter Username\n",
      "Academic license - for non-commercial use only - expires 2024-10-19\n",
      "Set parameter TimeLimit to value 3600\n"
     ]
    },
    {
     "name": "stderr",
     "output_type": "stream",
     "text": [
      "┌ Warning: Model not optimal\n",
      "└ @ LocationTransportation /Users/sebastiangrandaaltamirano/Documents/Tech/Academic/M2 ROAD/Courses/3. Optimisation dans l'incertain/Projet/LocationTransportation/src/services/helpers.jl:8\n",
      "┌ Warning: Model not optimal\n",
      "└ @ LocationTransportation /Users/sebastiangrandaaltamirano/Documents/Tech/Academic/M2 ROAD/Courses/3. Optimisation dans l'incertain/Projet/LocationTransportation/src/services/helpers.jl:8\n",
      "┌ Warning: Model not optimal\n",
      "└ @ LocationTransportation /Users/sebastiangrandaaltamirano/Documents/Tech/Academic/M2 ROAD/Courses/3. Optimisation dans l'incertain/Projet/LocationTransportation/src/services/helpers.jl:8\n"
     ]
    },
    {
     "name": "stderr",
     "output_type": "stream",
     "text": [
      "┌ Info: Location 1 | Feasibility cut added: -installed_capacity[1] - installed_capacity[2] - installed_capacity[3] ≤ -238\n",
      "└ @ LocationTransportation /Users/sebastiangrandaaltamirano/Documents/Tech/Academic/M2 ROAD/Courses/3. Optimisation dans l'incertain/Projet/LocationTransportation/src/methods/Benders/MasterProblem.jl:113\n",
      "┌ Info: Location 2 | Feasibility cut added: -installed_capacity[1] - installed_capacity[2] - installed_capacity[3] ≤ -274\n",
      "└ @ LocationTransportation /Users/sebastiangrandaaltamirano/Documents/Tech/Academic/M2 ROAD/Courses/3. Optimisation dans l'incertain/Projet/LocationTransportation/src/methods/Benders/MasterProblem.jl:113\n",
      "┌ Info: Location 3 | Feasibility cut added: -installed_capacity[1] - installed_capacity[2] - installed_capacity[3] ≤ -260\n",
      "└ @ LocationTransportation /Users/sebastiangrandaaltamirano/Documents/Tech/Academic/M2 ROAD/Courses/3. Optimisation dans l'incertain/Projet/LocationTransportation/src/methods/Benders/MasterProblem.jl:113\n",
      "┌ Info: ConstraintGeneration | Iteration 2\n",
      "└ @ LocationTransportation /Users/sebastiangrandaaltamirano/Documents/Tech/Academic/M2 ROAD/Courses/3. Optimisation dans l'incertain/Projet/LocationTransportation/src/methods/Benders/ConstraintGeneration.jl:17\n",
      "┌ Info: MasterProblem solved and updated | Metrics objective_value: 5332.0, execution_time: 0.001126438, expected_recourse: 0\n",
      "└ @ LocationTransportation /Users/sebastiangrandaaltamirano/Documents/Tech/Academic/M2 ROAD/Courses/3. Optimisation dans l'incertain/Projet/LocationTransportation/src/methods/Benders/MasterProblem.jl:72\n"
     ]
    },
    {
     "name": "stdout",
     "output_type": "stream",
     "text": [
      "Set parameter Username\n",
      "Academic license - for non-commercial use only - expires 2024-10-19\n",
      "Set parameter TimeLimit to value 3600\n",
      "Set parameter Username\n",
      "Academic license - for non-commercial use only - expires 2024-10-19\n",
      "Set parameter TimeLimit to value 3600\n",
      "Set parameter Username\n",
      "Academic license - for non-commercial use only - expires 2024-10-19\n",
      "Set parameter TimeLimit to value 3600\n",
      "Set parameter Username\n",
      "Academic license - for non-commercial use only - expires 2024-10-19\n",
      "Set parameter TimeLimit to value 3600\n",
      "Set parameter Username\n",
      "Academic license - for non-commercial use only - expires 2024-10-19\n",
      "Set parameter TimeLimit to value 3600\n",
      "Set parameter Username\n",
      "Academic license - for non-commercial use only - expires 2024-10-19\n",
      "Set parameter TimeLimit to value 3600\n"
     ]
    },
    {
     "name": "stderr",
     "output_type": "stream",
     "text": [
      "┌ Info: Location 1 | Optimality cut added: -2 installed_capacity[3] - θ[1] ≤ -5236\n",
      "└ @ LocationTransportation /Users/sebastiangrandaaltamirano/Documents/Tech/Academic/M2 ROAD/Courses/3. Optimisation dans l'incertain/Projet/LocationTransportation/src/methods/Benders/MasterProblem.jl:100\n",
      "┌ Info: Location 2 | Optimality cut added: -10 installed_capacity[2] - 8 installed_capacity[3] - θ[2] ≤ -9042\n",
      "└ @ LocationTransportation /Users/sebastiangrandaaltamirano/Documents/Tech/Academic/M2 ROAD/Courses/3. Optimisation dans l'incertain/Projet/LocationTransportation/src/methods/Benders/MasterProblem.jl:100\n",
      "┌ Info: Location 3 | Optimality cut added: -θ[3] ≤ -6240\n",
      "└ @ LocationTransportation /Users/sebastiangrandaaltamirano/Documents/Tech/Academic/M2 ROAD/Courses/3. Optimisation dans l'incertain/Projet/LocationTransportation/src/methods/Benders/MasterProblem.jl:100\n",
      "┌ Info: ConstraintGeneration | Iteration 3\n",
      "└ @ LocationTransportation /Users/sebastiangrandaaltamirano/Documents/Tech/Academic/M2 ROAD/Courses/3. Optimisation dans l'incertain/Projet/LocationTransportation/src/methods/Benders/ConstraintGeneration.jl:17\n",
      "┌ Info: MasterProblem solved and updated | Metrics objective_value: 23584.0, execution_time: 0.004421991, expected_recourse: 0\n",
      "└ @ LocationTransportation /Users/sebastiangrandaaltamirano/Documents/Tech/Academic/M2 ROAD/Courses/3. Optimisation dans l'incertain/Projet/LocationTransportation/src/methods/Benders/MasterProblem.jl:72\n"
     ]
    },
    {
     "name": "stdout",
     "output_type": "stream",
     "text": [
      "Set parameter Username\n",
      "Academic license - for non-commercial use only - expires 2024-10-19\n",
      "Set parameter TimeLimit to value 3600\n",
      "Set parameter Username\n",
      "Academic license - for non-commercial use only - expires 2024-10-19\n",
      "Set parameter TimeLimit to value 3600\n",
      "Set parameter Username\n",
      "Academic license - for non-commercial use only - expires 2024-10-19\n",
      "Set parameter TimeLimit to value 3600\n",
      "Set parameter Username\n",
      "Academic license - for non-commercial use only - expires 2024-10-19\n",
      "Set parameter TimeLimit to value 3600\n",
      "Set parameter Username\n",
      "Academic license - for non-commercial use only - expires 2024-10-19\n",
      "Set parameter TimeLimit to value 3600\n",
      "Set parameter Username\n",
      "Academic license - for non-commercial use only - expires 2024-10-19\n",
      "Set parameter TimeLimit to value 3600\n"
     ]
    },
    {
     "name": "stderr",
     "output_type": "stream",
     "text": [
      "┌ Info: Location 1 | Optimality cut added: -θ[1] ≤ -4760\n",
      "└ @ LocationTransportation /Users/sebastiangrandaaltamirano/Documents/Tech/Academic/M2 ROAD/Courses/3. Optimisation dans l'incertain/Projet/LocationTransportation/src/methods/Benders/MasterProblem.jl:100\n",
      "┌ Info: Location 2 | Optimality cut added: -2 installed_capacity[2] - θ[2] ≤ -6850\n",
      "└ @ LocationTransportation /Users/sebastiangrandaaltamirano/Documents/Tech/Academic/M2 ROAD/Courses/3. Optimisation dans l'incertain/Projet/LocationTransportation/src/methods/Benders/MasterProblem.jl:100\n",
      "┌ Info: Location 3 | Optimality cut added: -3 installed_capacity[1] - θ[3] ≤ -7020\n",
      "└ @ LocationTransportation /Users/sebastiangrandaaltamirano/Documents/Tech/Academic/M2 ROAD/Courses/3. Optimisation dans l'incertain/Projet/LocationTransportation/src/methods/Benders/MasterProblem.jl:100\n",
      "┌ Info: ConstraintGeneration | Iteration 4\n",
      "└ @ LocationTransportation /Users/sebastiangrandaaltamirano/Documents/Tech/Academic/M2 ROAD/Courses/3. Optimisation dans l'incertain/Projet/LocationTransportation/src/methods/Benders/ConstraintGeneration.jl:17\n",
      "┌ Info: MasterProblem solved and updated | Metrics objective_value: 24436.0, execution_time: 0.001461874, expected_recourse: 0\n",
      "└ @ LocationTransportation /Users/sebastiangrandaaltamirano/Documents/Tech/Academic/M2 ROAD/Courses/3. Optimisation dans l'incertain/Projet/LocationTransportation/src/methods/Benders/MasterProblem.jl:72\n"
     ]
    },
    {
     "name": "stdout",
     "output_type": "stream",
     "text": [
      "Set parameter Username\n",
      "Academic license - for non-commercial use only - expires 2024-10-19\n",
      "Set parameter TimeLimit to value 3600\n",
      "Set parameter Username\n",
      "Academic license - for non-commercial use only - expires 2024-10-19\n",
      "Set parameter TimeLimit to value 3600\n",
      "Set parameter Username\n",
      "Academic license - for non-commercial use only - expires 2024-10-19\n",
      "Set parameter TimeLimit to value 3600\n",
      "Set parameter Username\n",
      "Academic license - for non-commercial use only - expires 2024-10-19\n",
      "Set parameter TimeLimit to value 3600\n",
      "Set parameter Username\n",
      "Academic license - for non-commercial use only - expires 2024-10-19\n",
      "Set parameter TimeLimit to value 3600\n",
      "Set parameter Username\n",
      "Academic license - for non-commercial use only - expires 2024-10-19\n",
      "Set parameter TimeLimit to value 3600\n"
     ]
    },
    {
     "name": "stderr",
     "output_type": "stream",
     "text": [
      "┌ Info: Location 1 | Optimality cut added: -θ[1] ≤ -4760\n",
      "└ @ LocationTransportation /Users/sebastiangrandaaltamirano/Documents/Tech/Academic/M2 ROAD/Courses/3. Optimisation dans l'incertain/Projet/LocationTransportation/src/methods/Benders/MasterProblem.jl:100\n",
      "┌ Info: Location 2 | Optimality cut added: -2 installed_capacity[2] - θ[2] ≤ -6850\n",
      "└ @ LocationTransportation /Users/sebastiangrandaaltamirano/Documents/Tech/Academic/M2 ROAD/Courses/3. Optimisation dans l'incertain/Projet/LocationTransportation/src/methods/Benders/MasterProblem.jl:100\n",
      "┌ Info: Location 3 | Optimality cut added: -3 installed_capacity[1] - θ[3] ≤ -7020\n",
      "└ @ LocationTransportation /Users/sebastiangrandaaltamirano/Documents/Tech/Academic/M2 ROAD/Courses/3. Optimisation dans l'incertain/Projet/LocationTransportation/src/methods/Benders/MasterProblem.jl:100\n",
      "┌ Info: ConstraintGeneration | Iteration 5\n",
      "└ @ LocationTransportation /Users/sebastiangrandaaltamirano/Documents/Tech/Academic/M2 ROAD/Courses/3. Optimisation dans l'incertain/Projet/LocationTransportation/src/methods/Benders/ConstraintGeneration.jl:17\n",
      "┌ Info: MasterProblem solved and updated | Metrics objective_value: 24436.0, execution_time: 0.001520221, expected_recourse: 0\n",
      "└ @ LocationTransportation /Users/sebastiangrandaaltamirano/Documents/Tech/Academic/M2 ROAD/Courses/3. Optimisation dans l'incertain/Projet/LocationTransportation/src/methods/Benders/MasterProblem.jl:72\n"
     ]
    },
    {
     "name": "stdout",
     "output_type": "stream",
     "text": [
      "Set parameter Username\n",
      "Academic license - for non-commercial use only - expires 2024-10-19\n",
      "Set parameter TimeLimit to value 3600\n",
      "Set parameter Username\n",
      "Academic license - for non-commercial use only - expires 2024-10-19\n",
      "Set parameter TimeLimit to value 3600\n",
      "Set parameter Username\n",
      "Academic license - for non-commercial use only - expires 2024-10-19\n",
      "Set parameter TimeLimit to value 3600\n",
      "Set parameter Username\n",
      "Academic license - for non-commercial use only - expires 2024-10-19\n",
      "Set parameter TimeLimit to value 3600\n",
      "Set parameter Username\n",
      "Academic license - for non-commercial use only - expires 2024-10-19\n",
      "Set parameter TimeLimit to value 3600\n",
      "Set parameter Username\n",
      "Academic license - for non-commercial use only - expires 2024-10-19\n",
      "Set parameter TimeLimit to value 3600\n"
     ]
    },
    {
     "name": "stderr",
     "output_type": "stream",
     "text": [
      "┌ Info: Location 1 | Optimality cut added: -θ[1] ≤ -4760\n",
      "└ @ LocationTransportation /Users/sebastiangrandaaltamirano/Documents/Tech/Academic/M2 ROAD/Courses/3. Optimisation dans l'incertain/Projet/LocationTransportation/src/methods/Benders/MasterProblem.jl:100\n",
      "┌ Info: Location 2 | Optimality cut added: -2 installed_capacity[2] - θ[2] ≤ -6850\n",
      "└ @ LocationTransportation /Users/sebastiangrandaaltamirano/Documents/Tech/Academic/M2 ROAD/Courses/3. Optimisation dans l'incertain/Projet/LocationTransportation/src/methods/Benders/MasterProblem.jl:100\n",
      "┌ Info: Location 3 | Optimality cut added: -3 installed_capacity[1] - θ[3] ≤ -7020\n",
      "└ @ LocationTransportation /Users/sebastiangrandaaltamirano/Documents/Tech/Academic/M2 ROAD/Courses/3. Optimisation dans l'incertain/Projet/LocationTransportation/src/methods/Benders/MasterProblem.jl:100\n",
      "┌ Info: MasterProblem solved and updated | Metrics objective_value: 24436.0, execution_time: 0.001933317, expected_recourse: 0\n",
      "└ @ LocationTransportation /Users/sebastiangrandaaltamirano/Documents/Tech/Academic/M2 ROAD/Courses/3. Optimisation dans l'incertain/Projet/LocationTransportation/src/methods/Benders/MasterProblem.jl:72\n"
     ]
    },
    {
     "name": "stderr",
     "output_type": "stream",
     "text": [
      "┌ Info: ConstraintGeneration | History\n",
      "│   master.history = LocationTransportation.Metrics[LocationTransportation.Metrics(0.0, 0.000299679, 0), LocationTransportation.Metrics(5332.0, 0.001126438, 0), LocationTransportation.Metrics(23584.0, 0.004421991, 0), LocationTransportation.Metrics(24436.0, 0.001461874, 0), LocationTransportation.Metrics(24436.0, 0.001520221, 0), LocationTransportation.Metrics(24436.0, 0.001933317, 0)]\n",
      "└ @ LocationTransportation /Users/sebastiangrandaaltamirano/Documents/Tech/Academic/M2 ROAD/Courses/3. Optimisation dans l'incertain/Projet/LocationTransportation/src/methods/Benders/ConstraintGeneration.jl:27\n"
     ]
    }
   ],
   "source": [
    "cg_solution = execute(; model=:ConstraintGeneration, uncertain_demand=true);"
   ]
  },
  {
   "cell_type": "markdown",
   "metadata": {},
   "source": [
    "The optimal solution reports an objective value of `30536` units of cost:"
   ]
  },
  {
   "cell_type": "code",
   "execution_count": 13,
   "metadata": {},
   "outputs": [
    {
     "data": {
      "text/html": [
       "<div><div style = \"float: left;\"><span>1×2 DataFrame</span></div><div style = \"clear: both;\"></div></div><div class = \"data-frame\" style = \"overflow-x: scroll;\"><table class = \"data-frame\" style = \"margin-bottom: 6px;\"><thead><tr class = \"header\"><th class = \"rowNumber\" style = \"font-weight: bold; text-align: right;\">Row</th><th style = \"text-align: left;\">objective_value</th><th style = \"text-align: left;\">execution_time</th></tr><tr class = \"subheader headerLastRow\"><th class = \"rowNumber\" style = \"font-weight: bold; text-align: right;\"></th><th title = \"Float64\" style = \"text-align: left;\">Float64</th><th title = \"Float64\" style = \"text-align: left;\">Float64</th></tr></thead><tbody><tr><td class = \"rowNumber\" style = \"font-weight: bold; text-align: right;\">1</td><td style = \"text-align: right;\">24436.0</td><td style = \"text-align: right;\">26.674</td></tr></tbody></table></div>"
      ],
      "text/latex": [
       "\\begin{tabular}{r|cc}\n",
       "\t& objective\\_value & execution\\_time\\\\\n",
       "\t\\hline\n",
       "\t& Float64 & Float64\\\\\n",
       "\t\\hline\n",
       "\t1 & 24436.0 & 26.674 \\\\\n",
       "\\end{tabular}\n"
      ],
      "text/plain": [
       "\u001b[1m1×2 DataFrame\u001b[0m\n",
       "\u001b[1m Row \u001b[0m│\u001b[1m objective_value \u001b[0m\u001b[1m execution_time \u001b[0m\n",
       "     │\u001b[90m Float64         \u001b[0m\u001b[90m Float64        \u001b[0m\n",
       "─────┼─────────────────────────────────\n",
       "   1 │         24436.0          26.674"
      ]
     },
     "metadata": {},
     "output_type": "display_data"
    }
   ],
   "source": [
    "cg_summary = LocationTransportation.summary(cg_solution)\n",
    "@assert cg_solution.metrics.objective_value == 24436.0\n",
    "select(cg_summary[3], :objective_value, :execution_time)"
   ]
  },
  {
   "cell_type": "markdown",
   "metadata": {},
   "source": [
    "This solution shows that the locations `1` and `3` have been opened, with a capacity of `426.0` and `274`, respectively:"
   ]
  },
  {
   "cell_type": "code",
   "execution_count": 14,
   "metadata": {},
   "outputs": [
    {
     "data": {
      "text/html": [
       "<div><div style = \"float: left;\"><span>1×2 DataFrame</span></div><div style = \"clear: both;\"></div></div><div class = \"data-frame\" style = \"overflow-x: scroll;\"><table class = \"data-frame\" style = \"margin-bottom: 6px;\"><thead><tr class = \"header\"><th class = \"rowNumber\" style = \"font-weight: bold; text-align: right;\">Row</th><th style = \"text-align: left;\">location_id</th><th style = \"text-align: left;\">installed_capacity</th></tr><tr class = \"subheader headerLastRow\"><th class = \"rowNumber\" style = \"font-weight: bold; text-align: right;\"></th><th title = \"String\" style = \"text-align: left;\">String</th><th title = \"Float64\" style = \"text-align: left;\">Float64</th></tr></thead><tbody><tr><td class = \"rowNumber\" style = \"font-weight: bold; text-align: right;\">1</td><td style = \"text-align: left;\">L-3</td><td style = \"text-align: right;\">274.0</td></tr></tbody></table></div>"
      ],
      "text/latex": [
       "\\begin{tabular}{r|cc}\n",
       "\t& location\\_id & installed\\_capacity\\\\\n",
       "\t\\hline\n",
       "\t& String & Float64\\\\\n",
       "\t\\hline\n",
       "\t1 & L-3 & 274.0 \\\\\n",
       "\\end{tabular}\n"
      ],
      "text/plain": [
       "\u001b[1m1×2 DataFrame\u001b[0m\n",
       "\u001b[1m Row \u001b[0m│\u001b[1m location_id \u001b[0m\u001b[1m installed_capacity \u001b[0m\n",
       "     │\u001b[90m String      \u001b[0m\u001b[90m Float64            \u001b[0m\n",
       "─────┼─────────────────────────────────\n",
       "   1 │ L-3                       274.0"
      ]
     },
     "metadata": {},
     "output_type": "display_data"
    }
   ],
   "source": [
    "cg_summary[1]"
   ]
  },
  {
   "cell_type": "markdown",
   "metadata": {},
   "source": [
    "We can also verify the customer-to-warehouse assignments and the transportation quantity. For this instance, the warehouse `1` delivers `206` and `220` units to customers `1` and `3`, respectively; while warehouse `2` delivers `274` units to customer `2`:"
   ]
  },
  {
   "cell_type": "code",
   "execution_count": 15,
   "metadata": {},
   "outputs": [
    {
     "data": {
      "text/html": [
       "<div><div style = \"float: left;\"><span>3×3 DataFrame</span></div><div style = \"clear: both;\"></div></div><div class = \"data-frame\" style = \"overflow-x: scroll;\"><table class = \"data-frame\" style = \"margin-bottom: 6px;\"><thead><tr class = \"header\"><th class = \"rowNumber\" style = \"font-weight: bold; text-align: right;\">Row</th><th style = \"text-align: left;\">warehouse_id</th><th style = \"text-align: left;\">customer_id</th><th style = \"text-align: left;\">distribution_amount</th></tr><tr class = \"subheader headerLastRow\"><th class = \"rowNumber\" style = \"font-weight: bold; text-align: right;\"></th><th title = \"String\" style = \"text-align: left;\">String</th><th title = \"String\" style = \"text-align: left;\">String</th><th title = \"Float64\" style = \"text-align: left;\">Float64</th></tr></thead><tbody><tr><td class = \"rowNumber\" style = \"font-weight: bold; text-align: right;\">1</td><td style = \"text-align: left;\">L-3</td><td style = \"text-align: left;\">C-1</td><td style = \"text-align: right;\">4760.0</td></tr><tr><td class = \"rowNumber\" style = \"font-weight: bold; text-align: right;\">2</td><td style = \"text-align: left;\">L-3</td><td style = \"text-align: left;\">C-2</td><td style = \"text-align: right;\">4760.0</td></tr><tr><td class = \"rowNumber\" style = \"font-weight: bold; text-align: right;\">3</td><td style = \"text-align: left;\">L-3</td><td style = \"text-align: left;\">C-3</td><td style = \"text-align: right;\">4760.0</td></tr></tbody></table></div>"
      ],
      "text/latex": [
       "\\begin{tabular}{r|ccc}\n",
       "\t& warehouse\\_id & customer\\_id & distribution\\_amount\\\\\n",
       "\t\\hline\n",
       "\t& String & String & Float64\\\\\n",
       "\t\\hline\n",
       "\t1 & L-3 & C-1 & 4760.0 \\\\\n",
       "\t2 & L-3 & C-2 & 4760.0 \\\\\n",
       "\t3 & L-3 & C-3 & 4760.0 \\\\\n",
       "\\end{tabular}\n"
      ],
      "text/plain": [
       "\u001b[1m3×3 DataFrame\u001b[0m\n",
       "\u001b[1m Row \u001b[0m│\u001b[1m warehouse_id \u001b[0m\u001b[1m customer_id \u001b[0m\u001b[1m distribution_amount \u001b[0m\n",
       "     │\u001b[90m String       \u001b[0m\u001b[90m String      \u001b[0m\u001b[90m Float64             \u001b[0m\n",
       "─────┼────────────────────────────────────────────────\n",
       "   1 │ L-3           C-1                       4760.0\n",
       "   2 │ L-3           C-2                       4760.0\n",
       "   3 │ L-3           C-3                       4760.0"
      ]
     },
     "metadata": {},
     "output_type": "display_data"
    }
   ],
   "source": [
    "cg_summary[2]"
   ]
  },
  {
   "cell_type": "code",
   "execution_count": 16,
   "metadata": {},
   "outputs": [
    {
     "ename": "AssertionError",
     "evalue": "AssertionError: sum((cg_summary[1])[!, :installed_capacity]) == sum((cg_summary[2])[!, :distribution_amount]) == sum([206, 274, 220])",
     "output_type": "error",
     "traceback": [
      "AssertionError: sum((cg_summary[1])[!, :installed_capacity]) == sum((cg_summary[2])[!, :distribution_amount]) == sum([206, 274, 220])\n",
      "\n",
      "Stacktrace:\n",
      " [1] top-level scope\n",
      "   @ ~/Documents/Tech/Academic/M2 ROAD/Courses/3. Optimisation dans l'incertain/Projet/LocationTransportation/report.ipynb:1"
     ]
    }
   ],
   "source": [
    "@assert sum(cg_summary[1][!, :installed_capacity]) == sum(cg_summary[2][!, :distribution_amount]) == sum([206, 274, 220])\n",
    "\n",
    "# TODO verificar... aparentemente solo abre 1."
   ]
  },
  {
   "cell_type": "markdown",
   "metadata": {},
   "source": [
    "## Question 4: Affine decision rule\n",
    "\n",
    "The affine decision rule states that the second-stage decisions, which are the transportation quantities, are affine functions of the uncertain demand.\n",
    "In particular, this decision rule approximates the $x_{ij}$ variables as an affine function of the uncertain demand $d_{j}(\\xi)$ of customer $j \\in J$.\n",
    "We introduce two additional variables, $x_{ij}^{0}$ and $x_{ij}^{k}$, which represent the nominal value of the transportation quantity and the impact of the uncertain demand $d_{k}(\\xi)$ of customer $k \\in J$ from warehouse $i \\in I$ to customer $j \\in J$, respectively.\n",
    "Then, we can express the transportation quantity from warehouse $i \\in I$ to customer $j \\in J$ as follows:\n",
    "\n",
    "$$x_{ij}(\\xi) = x_{ij}^{0} + \\sum_{k \\in J} x_{ij}^{k} d_{k}(\\xi)$$\n",
    "\n",
    "To formulate the rule under the functional form, we modify the demand satisfaction constraint, resulting in the following formulation:\n",
    "\n",
    "$$\\min \\sum_{i \\in I} f_{i} y_{i} + \\sum_{i \\in I} a_{i} z_{i} + \\sum_{i \\in I} \\sum_{j \\in J} c_{ij} x_{ij}$$\n",
    "\n",
    "$$\\text{s.t.} \\quad x_{ij}(\\xi) \\geq x_{ij}^{0} + \\sum_{k \\in J} x_{ij}^{k} d_{k}(\\xi) \\quad \\forall i \\in I, j \\in J \\quad \\text{(affine rule)}$$\n",
    "$$\\text{s.t.} \\quad z_{i} \\leq C_{i} y_{i}, \\quad \\forall i \\in I \\quad \\text{(capacity limit)}$$\n",
    "$$\\sum_{j \\in J} x_{ij}(\\xi) \\leq z_{i}, \\quad \\forall i \\in I \\quad \\text{(transportation limit)}$$\n",
    "$$\\sum_{i \\in I} x_{ij}(\\xi) \\geq d_{j}(\\xi), \\quad \\forall j \\in J \\quad \\text{(affine demand satisfaction)}$$\n",
    "$$x_{ij}(\\xi) \\geq 0, \\quad \\forall i \\in I, j \\in J$$\n",
    "$$z_{i} \\geq 0, \\quad \\forall i \\in I$$\n",
    "$$y_{i} \\in \\{0,1\\}, \\quad \\forall i \\in I$$\n",
    "\n",
    "The deterministic formulation of this problem is obtained by replacing the uncertain demand $d_{j}(\\xi)$ by the robust demand $r_{j}$ obtained from the uncertainty set.\n",
    "\n",
    "$$\\min \\sum_{i \\in I} f_{i} y_{i} + \\sum_{i \\in I} a_{i} z_{i} + \\sum_{i \\in I} \\sum_{j \\in J} c_{ij} x_{ij}$$\n",
    "\n",
    "$$\\text{s.t.} \\quad x_{ij} \\geq x_{ij}^{0} + \\sum_{k \\in J} x_{ij}^{k} r_{k} \\quad \\forall i \\in I, j \\in J \\quad \\text{(affine rule)}$$\n",
    "$$\\text{s.t.} \\quad z_{i} \\leq C_{i} y_{i}, \\quad \\forall i \\in I \\quad \\text{(capacity limit)}$$\n",
    "$$\\sum_{j \\in J} x_{ij} \\leq z_{i}, \\quad \\forall i \\in I \\quad \\text{(transportation limit)}$$\n",
    "$$\\sum_{i \\in I} x_{ij} \\geq r_{j}, \\quad \\forall j \\in J \\quad \\text{(affine demand satisfaction)}$$\n",
    "$$x_{ij} \\geq 0, \\quad \\forall i \\in I, j \\in J$$\n",
    "$$z_{i} \\geq 0, \\quad \\forall i \\in I$$\n",
    "$$y_{i} \\in \\{0,1\\}, \\quad \\forall i \\in I$$\n",
    "\n",
    "The implementation of the affine decision rule can be found at `src/methods/AffineDecision.jl`."
   ]
  },
  {
   "cell_type": "code",
   "execution_count": 17,
   "metadata": {},
   "outputs": [
    {
     "name": "stderr",
     "output_type": "stream",
     "text": [
      "┌ Info: Solving instance with AffineDecision\n",
      "└ @ LocationTransportation /Users/sebastiangrandaaltamirano/Documents/Tech/Academic/M2 ROAD/Courses/3. Optimisation dans l'incertain/Projet/LocationTransportation/src/LocationTransportation.jl:44\n"
     ]
    },
    {
     "name": "stdout",
     "output_type": "stream",
     "text": [
      "Set parameter Username\n",
      "Academic license - for non-commercial use only - expires 2024-10-19\n",
      "Set parameter Username\n",
      "Academic license - for non-commercial use only - expires 2024-10-19\n",
      "Set parameter TimeLimit to value 3600\n",
      "Set parameter TimeLimit to value 3600\n"
     ]
    }
   ],
   "source": [
    "affine_solution = execute(; model=:AffineDecision, uncertain_demand=true);"
   ]
  },
  {
   "cell_type": "markdown",
   "metadata": {},
   "source": [
    "The optimal solution reports an objective value of `33496` units of cost, which is less than the `Robust` method. This is expected because the **affine decision rule provides less conservative solutions as they can be adjusted according to the realized proportion of data at a given stage**."
   ]
  },
  {
   "cell_type": "code",
   "execution_count": 18,
   "metadata": {},
   "outputs": [
    {
     "data": {
      "text/html": [
       "<div><div style = \"float: left;\"><span>1×2 DataFrame</span></div><div style = \"clear: both;\"></div></div><div class = \"data-frame\" style = \"overflow-x: scroll;\"><table class = \"data-frame\" style = \"margin-bottom: 6px;\"><thead><tr class = \"header\"><th class = \"rowNumber\" style = \"font-weight: bold; text-align: right;\">Row</th><th style = \"text-align: left;\">objective_value</th><th style = \"text-align: left;\">execution_time</th></tr><tr class = \"subheader headerLastRow\"><th class = \"rowNumber\" style = \"font-weight: bold; text-align: right;\"></th><th title = \"Float64\" style = \"text-align: left;\">Float64</th><th title = \"Float64\" style = \"text-align: left;\">Float64</th></tr></thead><tbody><tr><td class = \"rowNumber\" style = \"font-weight: bold; text-align: right;\">1</td><td style = \"text-align: right;\">33496.0</td><td style = \"text-align: right;\">0.00192728</td></tr></tbody></table></div>"
      ],
      "text/latex": [
       "\\begin{tabular}{r|cc}\n",
       "\t& objective\\_value & execution\\_time\\\\\n",
       "\t\\hline\n",
       "\t& Float64 & Float64\\\\\n",
       "\t\\hline\n",
       "\t1 & 33496.0 & 0.00192728 \\\\\n",
       "\\end{tabular}\n"
      ],
      "text/plain": [
       "\u001b[1m1×2 DataFrame\u001b[0m\n",
       "\u001b[1m Row \u001b[0m│\u001b[1m objective_value \u001b[0m\u001b[1m execution_time \u001b[0m\n",
       "     │\u001b[90m Float64         \u001b[0m\u001b[90m Float64        \u001b[0m\n",
       "─────┼─────────────────────────────────\n",
       "   1 │         33496.0      0.00192728"
      ]
     },
     "metadata": {},
     "output_type": "display_data"
    }
   ],
   "source": [
    "affine_summary = LocationTransportation.summary(affine_solution)\n",
    "@assert affine_solution.metrics.objective_value == 33496.0\n",
    "select(affine_summary[3], :objective_value, :execution_time)"
   ]
  },
  {
   "cell_type": "markdown",
   "metadata": {},
   "source": [
    "This solution shows that the locations `1` and `3` have been opened, with a capacity of `498.0` and `274`, respectively:"
   ]
  },
  {
   "cell_type": "code",
   "execution_count": 19,
   "metadata": {},
   "outputs": [
    {
     "data": {
      "text/html": [
       "<div><div style = \"float: left;\"><span>2×2 DataFrame</span></div><div style = \"clear: both;\"></div></div><div class = \"data-frame\" style = \"overflow-x: scroll;\"><table class = \"data-frame\" style = \"margin-bottom: 6px;\"><thead><tr class = \"header\"><th class = \"rowNumber\" style = \"font-weight: bold; text-align: right;\">Row</th><th style = \"text-align: left;\">location_id</th><th style = \"text-align: left;\">installed_capacity</th></tr><tr class = \"subheader headerLastRow\"><th class = \"rowNumber\" style = \"font-weight: bold; text-align: right;\"></th><th title = \"String\" style = \"text-align: left;\">String</th><th title = \"Float64\" style = \"text-align: left;\">Float64</th></tr></thead><tbody><tr><td class = \"rowNumber\" style = \"font-weight: bold; text-align: right;\">1</td><td style = \"text-align: left;\">L-1</td><td style = \"text-align: right;\">498.0</td></tr><tr><td class = \"rowNumber\" style = \"font-weight: bold; text-align: right;\">2</td><td style = \"text-align: left;\">L-3</td><td style = \"text-align: right;\">274.0</td></tr></tbody></table></div>"
      ],
      "text/latex": [
       "\\begin{tabular}{r|cc}\n",
       "\t& location\\_id & installed\\_capacity\\\\\n",
       "\t\\hline\n",
       "\t& String & Float64\\\\\n",
       "\t\\hline\n",
       "\t1 & L-1 & 498.0 \\\\\n",
       "\t2 & L-3 & 274.0 \\\\\n",
       "\\end{tabular}\n"
      ],
      "text/plain": [
       "\u001b[1m2×2 DataFrame\u001b[0m\n",
       "\u001b[1m Row \u001b[0m│\u001b[1m location_id \u001b[0m\u001b[1m installed_capacity \u001b[0m\n",
       "     │\u001b[90m String      \u001b[0m\u001b[90m Float64            \u001b[0m\n",
       "─────┼─────────────────────────────────\n",
       "   1 │ L-1                       498.0\n",
       "   2 │ L-3                       274.0"
      ]
     },
     "metadata": {},
     "output_type": "display_data"
    }
   ],
   "source": [
    "affine_summary[1]"
   ]
  },
  {
   "cell_type": "markdown",
   "metadata": {},
   "source": [
    "The warehouse `1` delivers `238` and `260` units to customers `1` and `3`, respectively; while warehouse `3` delivers `274` units to customer `2`:"
   ]
  },
  {
   "cell_type": "code",
   "execution_count": 20,
   "metadata": {},
   "outputs": [
    {
     "data": {
      "text/html": [
       "<div><div style = \"float: left;\"><span>3×3 DataFrame</span></div><div style = \"clear: both;\"></div></div><div class = \"data-frame\" style = \"overflow-x: scroll;\"><table class = \"data-frame\" style = \"margin-bottom: 6px;\"><thead><tr class = \"header\"><th class = \"rowNumber\" style = \"font-weight: bold; text-align: right;\">Row</th><th style = \"text-align: left;\">warehouse_id</th><th style = \"text-align: left;\">customer_id</th><th style = \"text-align: left;\">distribution_amount</th></tr><tr class = \"subheader headerLastRow\"><th class = \"rowNumber\" style = \"font-weight: bold; text-align: right;\"></th><th title = \"String\" style = \"text-align: left;\">String</th><th title = \"String\" style = \"text-align: left;\">String</th><th title = \"Float64\" style = \"text-align: left;\">Float64</th></tr></thead><tbody><tr><td class = \"rowNumber\" style = \"font-weight: bold; text-align: right;\">1</td><td style = \"text-align: left;\">L-1</td><td style = \"text-align: left;\">C-1</td><td style = \"text-align: right;\">238.0</td></tr><tr><td class = \"rowNumber\" style = \"font-weight: bold; text-align: right;\">2</td><td style = \"text-align: left;\">L-1</td><td style = \"text-align: left;\">C-3</td><td style = \"text-align: right;\">260.0</td></tr><tr><td class = \"rowNumber\" style = \"font-weight: bold; text-align: right;\">3</td><td style = \"text-align: left;\">L-3</td><td style = \"text-align: left;\">C-2</td><td style = \"text-align: right;\">274.0</td></tr></tbody></table></div>"
      ],
      "text/latex": [
       "\\begin{tabular}{r|ccc}\n",
       "\t& warehouse\\_id & customer\\_id & distribution\\_amount\\\\\n",
       "\t\\hline\n",
       "\t& String & String & Float64\\\\\n",
       "\t\\hline\n",
       "\t1 & L-1 & C-1 & 238.0 \\\\\n",
       "\t2 & L-1 & C-3 & 260.0 \\\\\n",
       "\t3 & L-3 & C-2 & 274.0 \\\\\n",
       "\\end{tabular}\n"
      ],
      "text/plain": [
       "\u001b[1m3×3 DataFrame\u001b[0m\n",
       "\u001b[1m Row \u001b[0m│\u001b[1m warehouse_id \u001b[0m\u001b[1m customer_id \u001b[0m\u001b[1m distribution_amount \u001b[0m\n",
       "     │\u001b[90m String       \u001b[0m\u001b[90m String      \u001b[0m\u001b[90m Float64             \u001b[0m\n",
       "─────┼────────────────────────────────────────────────\n",
       "   1 │ L-1           C-1                        238.0\n",
       "   2 │ L-1           C-3                        260.0\n",
       "   3 │ L-3           C-2                        274.0"
      ]
     },
     "metadata": {},
     "output_type": "display_data"
    }
   ],
   "source": [
    "affine_summary[2]"
   ]
  },
  {
   "cell_type": "markdown",
   "metadata": {},
   "source": [
    "Finally, verify that the solution satisfies all the demand and it is consistent with the transportation quantities:"
   ]
  },
  {
   "cell_type": "code",
   "execution_count": 21,
   "metadata": {},
   "outputs": [],
   "source": [
    "@assert sum(affine_summary[1][!, :installed_capacity]) == sum(affine_summary[2][!, :distribution_amount]) >= sum([206, 274, 220])"
   ]
  }
 ],
 "metadata": {
  "kernelspec": {
   "display_name": "Julia 1.9.3",
   "language": "julia",
   "name": "julia-1.9"
  },
  "language_info": {
   "file_extension": ".jl",
   "mimetype": "application/julia",
   "name": "julia",
   "version": "1.9.3"
  }
 },
 "nbformat": 4,
 "nbformat_minor": 2
}
