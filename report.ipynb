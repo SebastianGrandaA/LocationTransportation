{
 "cells": [
  {
   "cell_type": "code",
   "execution_count": 1,
   "metadata": {},
   "outputs": [
    {
     "name": "stderr",
     "output_type": "stream",
     "text": [
      "\u001b[32m\u001b[1m  Activating\u001b[22m\u001b[39m project at `~/Documents/Tech/Academic/M2 ROAD/Courses/3. Optimisation dans l'incertain/Projet/LocationTransportation`\n"
     ]
    }
   ],
   "source": [
    "using Pkg\n",
    "Pkg.activate(@__DIR__)\n",
    "using LocationTransportation: execute"
   ]
  },
  {
   "cell_type": "code",
   "execution_count": 2,
   "metadata": {},
   "outputs": [
    {
     "name": "stderr",
     "output_type": "stream",
     "text": [
      "┌ Info: Solving instance with Base\n",
      "└ @ LocationTransportation /Users/sebastiangrandaaltamirano/Documents/Tech/Academic/M2 ROAD/Courses/3. Optimisation dans l'incertain/Projet/LocationTransportation/src/LocationTransportation.jl:43\n"
     ]
    },
    {
     "name": "stdout",
     "output_type": "stream",
     "text": [
      "Set parameter Username\n",
      "Academic license - for non-commercial use only - expires 2024-10-19\n",
      "Set parameter TimeLimit to value 3600\n"
     ]
    }
   ],
   "source": [
    "base_solution = execute(; model=:Base);"
   ]
  },
  {
   "cell_type": "code",
   "execution_count": 3,
   "metadata": {},
   "outputs": [],
   "source": [
    "@assert base_solution.metrics.objective_value == 30536.0"
   ]
  },
  {
   "cell_type": "code",
   "execution_count": 4,
   "metadata": {},
   "outputs": [
    {
     "name": "stderr",
     "output_type": "stream",
     "text": [
      "┌ Info: Solving instance with Robust\n",
      "└ @ LocationTransportation /Users/sebastiangrandaaltamirano/Documents/Tech/Academic/M2 ROAD/Courses/3. Optimisation dans l'incertain/Projet/LocationTransportation/src/LocationTransportation.jl:43\n",
      "┌ Info: Uncertainty set obtained\n",
      "│   robust_demand = 1-dimensional DenseAxisArray{Float64,1,...} with index sets:\n",
      "    Dimension 1, 1:3\n",
      "And data, a 3-element Vector{Float64}:\n",
      " 238.0\n",
      " 274.0\n",
      " 260.0\n",
      "└ @ LocationTransportation /Users/sebastiangrandaaltamirano/Documents/Tech/Academic/M2 ROAD/Courses/3. Optimisation dans l'incertain/Projet/LocationTransportation/src/methods/UncertaintySet.jl:51\n"
     ]
    },
    {
     "name": "stdout",
     "output_type": "stream",
     "text": [
      "Set parameter Username\n",
      "Academic license - for non-commercial use only - expires 2024-10-19\n",
      "Set parameter Username\n",
      "Academic license - for non-commercial use only - expires 2024-10-19\n",
      "Set parameter TimeLimit to value 3600\n",
      "Set parameter TimeLimit to value 3600\n"
     ]
    }
   ],
   "source": [
    "robust_solution = execute(; model=:Robust, uncertain_demand=true);"
   ]
  },
  {
   "cell_type": "code",
   "execution_count": 5,
   "metadata": {},
   "outputs": [],
   "source": [
    "@assert robust_solution.metrics.objective_value == 33496.0"
   ]
  },
  {
   "cell_type": "code",
   "execution_count": 6,
   "metadata": {},
   "outputs": [],
   "source": [
    "@assert base_solution.metrics.objective_value <= robust_solution.metrics.objective_value <= 2 * base_solution.metrics.objective_value"
   ]
  },
  {
   "cell_type": "code",
   "execution_count": 7,
   "metadata": {},
   "outputs": [
    {
     "data": {
      "text/plain": [
       "2-element Vector{LocationTransportation.Warehouse}:\n",
       " LocationTransportation.Warehouse(LocationTransportation.Location(\"L-1\", 400.0, 18.0, 800.0), 498.0)\n",
       " LocationTransportation.Warehouse(LocationTransportation.Location(\"L-3\", 326.0, 20.0, 800.0), 274.0)"
      ]
     },
     "metadata": {},
     "output_type": "display_data"
    }
   ],
   "source": [
    "robust_solution.warehouses"
   ]
  },
  {
   "cell_type": "code",
   "execution_count": 8,
   "metadata": {},
   "outputs": [
    {
     "data": {
      "text/plain": [
       "2-element Vector{LocationTransportation.Distribution}:\n",
       " LocationTransportation.Distribution(LocationTransportation.Warehouse(LocationTransportation.Location(\"L-1\", 400.0, 18.0, 800.0), 498.0), LocationTransportation.Customer(\"C-1\", LocationTransportation.UncertainDemand(206, 40)), 238.0)\n",
       " LocationTransportation.Distribution(LocationTransportation.Warehouse(LocationTransportation.Location(\"L-1\", 400.0, 18.0, 800.0), 498.0), LocationTransportation.Customer(\"C-3\", LocationTransportation.UncertainDemand(220, 40)), 260.0)"
      ]
     },
     "metadata": {},
     "output_type": "display_data"
    }
   ],
   "source": [
    "robust_solution.distributions"
   ]
  },
  {
   "cell_type": "code",
   "execution_count": 9,
   "metadata": {},
   "outputs": [
    {
     "name": "stderr",
     "output_type": "stream",
     "text": [
      "┌ Info: Solving instance with ConstraintGeneration\n",
      "└ @ LocationTransportation /Users/sebastiangrandaaltamirano/Documents/Tech/Academic/M2 ROAD/Courses/3. Optimisation dans l'incertain/Projet/LocationTransportation/src/LocationTransportation.jl:43\n",
      "┌ Info: Uncertainty set obtained\n",
      "│   robust_demand = 1-dimensional DenseAxisArray{Float64,1,...} with index sets:\n",
      "    Dimension 1, 1:3\n",
      "And data, a 3-element Vector{Float64}:\n",
      " 238.0\n",
      " 274.0\n",
      " 260.0\n",
      "└ @ LocationTransportation /Users/sebastiangrandaaltamirano/Documents/Tech/Academic/M2 ROAD/Courses/3. Optimisation dans l'incertain/Projet/LocationTransportation/src/methods/UncertaintySet.jl:51\n"
     ]
    },
    {
     "name": "stdout",
     "output_type": "stream",
     "text": [
      "Set parameter Username\n",
      "Academic license - for non-commercial use only - expires 2024-10-19\n",
      "Set parameter Username\n",
      "Academic license - for non-commercial use only - expires 2024-10-19\n",
      "Set parameter TimeLimit to value 3600\n"
     ]
    },
    {
     "name": "stderr",
     "output_type": "stream",
     "text": [
      "┌ Info: ConstraintGeneration | Iteration 1\n",
      "└ @ LocationTransportation /Users/sebastiangrandaaltamirano/Documents/Tech/Academic/M2 ROAD/Courses/3. Optimisation dans l'incertain/Projet/LocationTransportation/src/methods/Benders/ConstraintGeneration.jl:17\n",
      "┌ Info: MasterProblem solved and updated | Metrics objective_value: 0.0, execution_time: 0.000404759, expected_recourse: 0\n",
      "└ @ LocationTransportation /Users/sebastiangrandaaltamirano/Documents/Tech/Academic/M2 ROAD/Courses/3. Optimisation dans l'incertain/Projet/LocationTransportation/src/methods/Benders/MasterProblem.jl:70\n"
     ]
    },
    {
     "name": "stdout",
     "output_type": "stream",
     "text": [
      "Set parameter TimeLimit to value 3600\n"
     ]
    },
    {
     "name": "stdout",
     "output_type": "stream",
     "text": [
      "Set parameter Username\n",
      "Academic license - for non-commercial use only - expires 2024-10-19\n",
      "Set parameter TimeLimit to value 3600\n",
      "Set parameter Username\n",
      "Academic license - for non-commercial use only - expires 2024-10-19\n",
      "Set parameter TimeLimit to value 3600\n",
      "Set parameter Username\n",
      "Academic license - for non-commercial use only - expires 2024-10-19\n",
      "Set parameter TimeLimit to value 3600\n",
      "Set parameter Username\n",
      "Academic license - for non-commercial use only - expires 2024-10-19\n",
      "Set parameter TimeLimit to value 3600\n",
      "Set parameter Username\n",
      "Academic license - for non-commercial use only - expires 2024-10-19\n",
      "Set parameter TimeLimit to value 3600\n",
      "Set parameter Username\n",
      "Academic license - for non-commercial use only - expires 2024-10-19\n",
      "Set parameter TimeLimit to value 3600\n"
     ]
    },
    {
     "name": "stderr",
     "output_type": "stream",
     "text": [
      "┌ Warning: Model not optimal\n",
      "└ @ LocationTransportation /Users/sebastiangrandaaltamirano/Documents/Tech/Academic/M2 ROAD/Courses/3. Optimisation dans l'incertain/Projet/LocationTransportation/src/services/helpers.jl:8\n",
      "┌ Warning: Model not optimal\n",
      "└ @ LocationTransportation /Users/sebastiangrandaaltamirano/Documents/Tech/Academic/M2 ROAD/Courses/3. Optimisation dans l'incertain/Projet/LocationTransportation/src/services/helpers.jl:8\n",
      "┌ Warning: Model not optimal\n",
      "└ @ LocationTransportation /Users/sebastiangrandaaltamirano/Documents/Tech/Academic/M2 ROAD/Courses/3. Optimisation dans l'incertain/Projet/LocationTransportation/src/services/helpers.jl:8\n"
     ]
    },
    {
     "name": "stderr",
     "output_type": "stream",
     "text": [
      "┌ Info: Location 1 | Feasibility cut added: -installed_capacity[1] - installed_capacity[2] - installed_capacity[3] ≤ -238\n",
      "└ @ LocationTransportation /Users/sebastiangrandaaltamirano/Documents/Tech/Academic/M2 ROAD/Courses/3. Optimisation dans l'incertain/Projet/LocationTransportation/src/methods/Benders/MasterProblem.jl:100\n",
      "┌ Info: Location 2 | Feasibility cut added: -installed_capacity[1] - installed_capacity[2] - installed_capacity[3] ≤ -274\n",
      "└ @ LocationTransportation /Users/sebastiangrandaaltamirano/Documents/Tech/Academic/M2 ROAD/Courses/3. Optimisation dans l'incertain/Projet/LocationTransportation/src/methods/Benders/MasterProblem.jl:100\n",
      "┌ Info: Location 3 | Feasibility cut added: -installed_capacity[1] - installed_capacity[2] - installed_capacity[3] ≤ -260\n",
      "└ @ LocationTransportation /Users/sebastiangrandaaltamirano/Documents/Tech/Academic/M2 ROAD/Courses/3. Optimisation dans l'incertain/Projet/LocationTransportation/src/methods/Benders/MasterProblem.jl:100\n",
      "┌ Info: ConstraintGeneration | Iteration 2\n",
      "└ @ LocationTransportation /Users/sebastiangrandaaltamirano/Documents/Tech/Academic/M2 ROAD/Courses/3. Optimisation dans l'incertain/Projet/LocationTransportation/src/methods/Benders/ConstraintGeneration.jl:17\n",
      "┌ Info: MasterProblem solved and updated | Metrics objective_value: 5332.0, execution_time: 0.000907983, expected_recourse: 0\n",
      "└ @ LocationTransportation /Users/sebastiangrandaaltamirano/Documents/Tech/Academic/M2 ROAD/Courses/3. Optimisation dans l'incertain/Projet/LocationTransportation/src/methods/Benders/MasterProblem.jl:70\n"
     ]
    },
    {
     "name": "stdout",
     "output_type": "stream",
     "text": [
      "Set parameter Username\n",
      "Academic license - for non-commercial use only - expires 2024-10-19\n",
      "Set parameter TimeLimit to value 3600\n",
      "Set parameter Username\n",
      "Academic license - for non-commercial use only - expires 2024-10-19\n",
      "Set parameter TimeLimit to value 3600\n",
      "Set parameter Username\n",
      "Academic license - for non-commercial use only - expires 2024-10-19\n",
      "Set parameter TimeLimit to value 3600\n",
      "Set parameter Username\n",
      "Academic license - for non-commercial use only - expires 2024-10-19\n",
      "Set parameter TimeLimit to value 3600\n",
      "Set parameter Username\n",
      "Academic license - for non-commercial use only - expires 2024-10-19\n",
      "Set parameter TimeLimit to value 3600\n",
      "Set parameter Username\n",
      "Academic license - for non-commercial use only - expires 2024-10-19\n",
      "Set parameter TimeLimit to value 3600\n"
     ]
    },
    {
     "name": "stderr",
     "output_type": "stream",
     "text": [
      "┌ Info: Location 1 | Optimality cut added: -2 installed_capacity[3] - θ[1] ≤ -5236\n",
      "└ @ LocationTransportation /Users/sebastiangrandaaltamirano/Documents/Tech/Academic/M2 ROAD/Courses/3. Optimisation dans l'incertain/Projet/LocationTransportation/src/methods/Benders/MasterProblem.jl:92\n",
      "┌ Info: Location 2 | Optimality cut added: -10 installed_capacity[2] - 8 installed_capacity[3] - θ[2] ≤ -9042\n",
      "└ @ LocationTransportation /Users/sebastiangrandaaltamirano/Documents/Tech/Academic/M2 ROAD/Courses/3. Optimisation dans l'incertain/Projet/LocationTransportation/src/methods/Benders/MasterProblem.jl:92\n",
      "┌ Info: Location 3 | Optimality cut added: -θ[3] ≤ -6240\n",
      "└ @ LocationTransportation /Users/sebastiangrandaaltamirano/Documents/Tech/Academic/M2 ROAD/Courses/3. Optimisation dans l'incertain/Projet/LocationTransportation/src/methods/Benders/MasterProblem.jl:92\n",
      "┌ Info: ConstraintGeneration | Iteration 3\n",
      "└ @ LocationTransportation /Users/sebastiangrandaaltamirano/Documents/Tech/Academic/M2 ROAD/Courses/3. Optimisation dans l'incertain/Projet/LocationTransportation/src/methods/Benders/ConstraintGeneration.jl:17\n",
      "┌ Info: MasterProblem solved and updated | Metrics objective_value: 23584.0, execution_time: 0.002832524, expected_recourse: 0\n",
      "└ @ LocationTransportation /Users/sebastiangrandaaltamirano/Documents/Tech/Academic/M2 ROAD/Courses/3. Optimisation dans l'incertain/Projet/LocationTransportation/src/methods/Benders/MasterProblem.jl:70\n"
     ]
    },
    {
     "name": "stdout",
     "output_type": "stream",
     "text": [
      "Set parameter Username\n",
      "Academic license - for non-commercial use only - expires 2024-10-19\n",
      "Set parameter TimeLimit to value 3600\n",
      "Set parameter Username\n",
      "Academic license - for non-commercial use only - expires 2024-10-19\n",
      "Set parameter TimeLimit to value 3600\n",
      "Set parameter Username\n",
      "Academic license - for non-commercial use only - expires 2024-10-19\n",
      "Set parameter TimeLimit to value 3600\n",
      "Set parameter Username\n",
      "Academic license - for non-commercial use only - expires 2024-10-19\n",
      "Set parameter TimeLimit to value 3600\n",
      "Set parameter Username\n",
      "Academic license - for non-commercial use only - expires 2024-10-19\n",
      "Set parameter TimeLimit to value 3600\n",
      "Set parameter Username\n",
      "Academic license - for non-commercial use only - expires 2024-10-19\n",
      "Set parameter TimeLimit to value 3600\n"
     ]
    },
    {
     "name": "stderr",
     "output_type": "stream",
     "text": [
      "┌ Info: Location 1 | Optimality cut added: -θ[1] ≤ -4760\n",
      "└ @ LocationTransportation /Users/sebastiangrandaaltamirano/Documents/Tech/Academic/M2 ROAD/Courses/3. Optimisation dans l'incertain/Projet/LocationTransportation/src/methods/Benders/MasterProblem.jl:92\n",
      "┌ Info: Location 2 | Optimality cut added: -2 installed_capacity[2] - θ[2] ≤ -6850\n",
      "└ @ LocationTransportation /Users/sebastiangrandaaltamirano/Documents/Tech/Academic/M2 ROAD/Courses/3. Optimisation dans l'incertain/Projet/LocationTransportation/src/methods/Benders/MasterProblem.jl:92\n",
      "┌ Info: Location 3 | Optimality cut added: -3 installed_capacity[1] - θ[3] ≤ -7020\n",
      "└ @ LocationTransportation /Users/sebastiangrandaaltamirano/Documents/Tech/Academic/M2 ROAD/Courses/3. Optimisation dans l'incertain/Projet/LocationTransportation/src/methods/Benders/MasterProblem.jl:92\n",
      "┌ Info: ConstraintGeneration | Iteration 4\n",
      "└ @ LocationTransportation /Users/sebastiangrandaaltamirano/Documents/Tech/Academic/M2 ROAD/Courses/3. Optimisation dans l'incertain/Projet/LocationTransportation/src/methods/Benders/ConstraintGeneration.jl:17\n",
      "┌ Info: MasterProblem solved and updated | Metrics objective_value: 24436.0, execution_time: 0.004677599, expected_recourse: 0\n",
      "└ @ LocationTransportation /Users/sebastiangrandaaltamirano/Documents/Tech/Academic/M2 ROAD/Courses/3. Optimisation dans l'incertain/Projet/LocationTransportation/src/methods/Benders/MasterProblem.jl:70\n"
     ]
    },
    {
     "name": "stdout",
     "output_type": "stream",
     "text": [
      "Set parameter Username\n",
      "Academic license - for non-commercial use only - expires 2024-10-19\n",
      "Set parameter TimeLimit to value 3600\n",
      "Set parameter Username\n",
      "Academic license - for non-commercial use only - expires 2024-10-19\n",
      "Set parameter TimeLimit to value 3600\n",
      "Set parameter Username\n",
      "Academic license - for non-commercial use only - expires 2024-10-19\n",
      "Set parameter TimeLimit to value 3600\n",
      "Set parameter Username\n",
      "Academic license - for non-commercial use only - expires 2024-10-19\n",
      "Set parameter TimeLimit to value 3600\n",
      "Set parameter Username\n",
      "Academic license - for non-commercial use only - expires 2024-10-19\n",
      "Set parameter TimeLimit to value 3600\n",
      "Set parameter Username\n",
      "Academic license - for non-commercial use only - expires 2024-10-19\n",
      "Set parameter TimeLimit to value 3600\n"
     ]
    },
    {
     "name": "stderr",
     "output_type": "stream",
     "text": [
      "┌ Info: Location 1 | Optimality cut added: -θ[1] ≤ -4760\n",
      "└ @ LocationTransportation /Users/sebastiangrandaaltamirano/Documents/Tech/Academic/M2 ROAD/Courses/3. Optimisation dans l'incertain/Projet/LocationTransportation/src/methods/Benders/MasterProblem.jl:92\n",
      "┌ Info: Location 2 | Optimality cut added: -2 installed_capacity[2] - θ[2] ≤ -6850\n",
      "└ @ LocationTransportation /Users/sebastiangrandaaltamirano/Documents/Tech/Academic/M2 ROAD/Courses/3. Optimisation dans l'incertain/Projet/LocationTransportation/src/methods/Benders/MasterProblem.jl:92\n",
      "┌ Info: Location 3 | Optimality cut added: -3 installed_capacity[1] - θ[3] ≤ -7020\n",
      "└ @ LocationTransportation /Users/sebastiangrandaaltamirano/Documents/Tech/Academic/M2 ROAD/Courses/3. Optimisation dans l'incertain/Projet/LocationTransportation/src/methods/Benders/MasterProblem.jl:92\n",
      "┌ Info: ConstraintGeneration | Iteration 5\n",
      "└ @ LocationTransportation /Users/sebastiangrandaaltamirano/Documents/Tech/Academic/M2 ROAD/Courses/3. Optimisation dans l'incertain/Projet/LocationTransportation/src/methods/Benders/ConstraintGeneration.jl:17\n",
      "┌ Info: MasterProblem solved and updated | Metrics objective_value: 24436.0, execution_time: 0.003840642, expected_recourse: 0\n",
      "└ @ LocationTransportation /Users/sebastiangrandaaltamirano/Documents/Tech/Academic/M2 ROAD/Courses/3. Optimisation dans l'incertain/Projet/LocationTransportation/src/methods/Benders/MasterProblem.jl:70\n"
     ]
    },
    {
     "name": "stdout",
     "output_type": "stream",
     "text": [
      "Set parameter Username\n",
      "Academic license - for non-commercial use only - expires 2024-10-19\n",
      "Set parameter TimeLimit to value 3600\n",
      "Set parameter Username\n",
      "Academic license - for non-commercial use only - expires 2024-10-19\n",
      "Set parameter TimeLimit to value 3600\n",
      "Set parameter Username\n",
      "Academic license - for non-commercial use only - expires 2024-10-19\n",
      "Set parameter TimeLimit to value 3600\n",
      "Set parameter Username\n",
      "Academic license - for non-commercial use only - expires 2024-10-19\n",
      "Set parameter TimeLimit to value 3600\n",
      "Set parameter Username\n",
      "Academic license - for non-commercial use only - expires 2024-10-19\n",
      "Set parameter TimeLimit to value 3600\n",
      "Set parameter Username\n",
      "Academic license - for non-commercial use only - expires 2024-10-19\n",
      "Set parameter TimeLimit to value 3600\n"
     ]
    },
    {
     "name": "stderr",
     "output_type": "stream",
     "text": [
      "┌ Info: Location 1 | Optimality cut added: -θ[1] ≤ -4760\n",
      "└ @ LocationTransportation /Users/sebastiangrandaaltamirano/Documents/Tech/Academic/M2 ROAD/Courses/3. Optimisation dans l'incertain/Projet/LocationTransportation/src/methods/Benders/MasterProblem.jl:92\n",
      "┌ Info: Location 2 | Optimality cut added: -2 installed_capacity[2] - θ[2] ≤ -6850\n",
      "└ @ LocationTransportation /Users/sebastiangrandaaltamirano/Documents/Tech/Academic/M2 ROAD/Courses/3. Optimisation dans l'incertain/Projet/LocationTransportation/src/methods/Benders/MasterProblem.jl:92\n",
      "┌ Info: Location 3 | Optimality cut added: -3 installed_capacity[1] - θ[3] ≤ -7020\n",
      "└ @ LocationTransportation /Users/sebastiangrandaaltamirano/Documents/Tech/Academic/M2 ROAD/Courses/3. Optimisation dans l'incertain/Projet/LocationTransportation/src/methods/Benders/MasterProblem.jl:92\n",
      "┌ Info: MasterProblem solved and updated | Metrics objective_value: 24436.0, execution_time: 0.00590435, expected_recourse: 0\n",
      "└ @ LocationTransportation /Users/sebastiangrandaaltamirano/Documents/Tech/Academic/M2 ROAD/Courses/3. Optimisation dans l'incertain/Projet/LocationTransportation/src/methods/Benders/MasterProblem.jl:70\n"
     ]
    },
    {
     "name": "stderr",
     "output_type": "stream",
     "text": [
      "┌ Info: ConstraintGeneration | History\n",
      "│   master.history = LocationTransportation.Metrics[LocationTransportation.Metrics(0.0, 0.000404759, 0), LocationTransportation.Metrics(5332.0, 0.000907983, 0), LocationTransportation.Metrics(23584.0, 0.002832524, 0), LocationTransportation.Metrics(24436.0, 0.004677599, 0), LocationTransportation.Metrics(24436.0, 0.003840642, 0), LocationTransportation.Metrics(24436.0, 0.00590435, 0)]\n",
      "└ @ LocationTransportation /Users/sebastiangrandaaltamirano/Documents/Tech/Academic/M2 ROAD/Courses/3. Optimisation dans l'incertain/Projet/LocationTransportation/src/methods/Benders/ConstraintGeneration.jl:27\n"
     ]
    }
   ],
   "source": [
    "constraint_generation_solution = execute(; model=:ConstraintGeneration, uncertain_demand=true);"
   ]
  },
  {
   "cell_type": "code",
   "execution_count": 10,
   "metadata": {},
   "outputs": [],
   "source": [
    "@assert constraint_generation_solution.metrics.objective_value == 24436.0 # TODO revisar esto..."
   ]
  },
  {
   "cell_type": "code",
   "execution_count": 11,
   "metadata": {},
   "outputs": [
    {
     "name": "stderr",
     "output_type": "stream",
     "text": [
      "┌ Info: Solving instance with AffineDecision\n",
      "└ @ LocationTransportation /Users/sebastiangrandaaltamirano/Documents/Tech/Academic/M2 ROAD/Courses/3. Optimisation dans l'incertain/Projet/LocationTransportation/src/LocationTransportation.jl:43\n",
      "┌ Info: Uncertainty set obtained\n",
      "│   robust_demand = 1-dimensional DenseAxisArray{Float64,1,...} with index sets:\n",
      "    Dimension 1, 1:3\n",
      "And data, a 3-element Vector{Float64}:\n",
      " 238.0\n",
      " 274.0\n",
      " 260.0\n",
      "└ @ LocationTransportation /Users/sebastiangrandaaltamirano/Documents/Tech/Academic/M2 ROAD/Courses/3. Optimisation dans l'incertain/Projet/LocationTransportation/src/methods/UncertaintySet.jl:51\n"
     ]
    },
    {
     "name": "stdout",
     "output_type": "stream",
     "text": [
      "Set parameter Username\n",
      "Academic license - for non-commercial use only - expires 2024-10-19\n",
      "Set parameter Username\n",
      "Academic license - for non-commercial use only - expires 2024-10-19\n",
      "Set parameter TimeLimit to value 3600\n",
      "Set parameter TimeLimit to value 3600\n"
     ]
    }
   ],
   "source": [
    "affine_decision_solution = execute(; model=:AffineDecision, uncertain_demand=true);"
   ]
  },
  {
   "cell_type": "code",
   "execution_count": 12,
   "metadata": {},
   "outputs": [],
   "source": [
    "@assert affine_decision_solution.metrics.objective_value == 33496.0"
   ]
  },
  {
   "cell_type": "code",
   "execution_count": 13,
   "metadata": {},
   "outputs": [],
   "source": []
  },
  {
   "cell_type": "code",
   "execution_count": 14,
   "metadata": {},
   "outputs": [],
   "source": []
  },
  {
   "cell_type": "code",
   "execution_count": 15,
   "metadata": {},
   "outputs": [],
   "source": []
  },
  {
   "cell_type": "code",
   "execution_count": 16,
   "metadata": {},
   "outputs": [],
   "source": []
  },
  {
   "cell_type": "markdown",
   "metadata": {},
   "source": [
    "Given the uncertainty set `D`:\n",
    "D = {\n",
    "    d : \n",
    "        d_{j} = \\bar{d}_{j} + \\hat{d}_{j} \\delta_{j} ,\n",
    "        0 \\leq \\delta_{j} \\leq 1,\n",
    "        \\sum_{j} \\delta_{j} \\leq \\Gamma_{1}\n",
    "        \\delta_{1} + \\delta_{2} \\leq \\Gamma_{2}\n",
    "}\n",
    "\n",
    "To formulate the robust counterpart, we first replace the `demand_satisfaction` constraint with the following constraint:\n",
    "\\sum_{i} x_{ij} \\geq max_{\\delta \\in D}{ \\bar{d}_{j} + \\hat{d}_{j} \\delta_{j} } , \\forall j \\in J\n",
    "\n",
    "Then we linearize the constraint by introducing an auxiliary variable `M_{j}` that represents the maximum demand for customer `j`:\n",
    "    M_{j} \\geq \\bar{d}_{j} + \\hat{d}_{j} \\delta_{j} , \\forall j \\in J, \\forall \\delta \\in D\n",
    "    \\sum_{i} x_{ij} \\geq M_{j} , \\forall j \\in J\n",
    "\n",
    "Finally, we add the uncertainty set constraints:\n",
    "    \\sum_{j} \\delta_{j} \\leq \\Gamma_{1}\n",
    "    \\delta_{1} + \\delta_{2} \\leq \\Gamma_{2}\n",
    "    \\delta_{j} \\in [0, 1] , \\forall j \\in J"
   ]
  },
  {
   "cell_type": "markdown",
   "metadata": {},
   "source": [
    "$$d_{j} = \\bar{d}_{j} + \\hat{d}_{j} \\delta_{j}$$\n",
    "\n",
    "$$0 \\leq \\delta_{j} \\leq 1$$\n",
    "\n",
    "$$\\sum_{j} \\delta_{j} \\leq \\Gamma_{1}$$\n",
    "\n",
    "$$\\delta_{1} + \\delta_{2} \\leq \\Gamma_{2}$$"
   ]
  },
  {
   "cell_type": "markdown",
   "metadata": {},
   "source": [
    "Solve:\n",
    "\\sum_{i} x_ij \\geq max_{d \\in D} d_j\n",
    "\n",
    "D = {\n",
    "    d_{j} :\n",
    "        \\bar{d}_{j} + \\hat{d}_{j} \\delta_{j} , 0 \\leq \\delta_{j} \\leq 1 for j \\in J\n",
    "        \\sum_{j} \\delta_{j} \\leq \\Gamma_{1}\n",
    "        \\delta_{1} + \\delta_{2} \\leq \\Gamma_{2}\n",
    "}"
   ]
  },
  {
   "cell_type": "markdown",
   "metadata": {},
   "source": []
  }
 ],
 "metadata": {
  "kernelspec": {
   "display_name": "Julia 1.9.3",
   "language": "julia",
   "name": "julia-1.9"
  },
  "language_info": {
   "file_extension": ".jl",
   "mimetype": "application/julia",
   "name": "julia",
   "version": "1.9.3"
  }
 },
 "nbformat": 4,
 "nbformat_minor": 2
}
